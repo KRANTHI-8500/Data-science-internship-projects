{
 "cells": [
  {
   "cell_type": "markdown",
   "id": "a238c569",
   "metadata": {},
   "source": [
    "# Data Description "
   ]
  },
  {
   "cell_type": "markdown",
   "id": "aca0dfa3",
   "metadata": {},
   "source": [
    "**The dataset contains the employment outcomes of engineering graduates as dependent variables \n",
    "(Salary, Job Titles, and Job Locations) along with the standardized scores from three different areas – cognitive skills, technical skills and personality skills. The dataset  contains  around  40 independent variables and 4000 data points.The dataset was released by Aspiring Minds from the Aspiring Mind Employment Outcome 2015 (AMEO).**"
   ]
  },
  {
   "cell_type": "code",
   "execution_count": 1,
   "id": "2bc67d59",
   "metadata": {},
   "outputs": [],
   "source": [
    "# Importing libraries\n",
    "import pandas as pd\n",
    "import numpy as np\n",
    "import seaborn as sns\n",
    "import matplotlib.pyplot as plt"
   ]
  },
  {
   "cell_type": "code",
   "execution_count": 2,
   "id": "0a380975",
   "metadata": {},
   "outputs": [],
   "source": [
    "# Reading excel file\n",
    "data = pd.read_excel(r\"C:\\Users\\seela\\OneDrive\\Desktop\\KRANTHI\\INTERNSHIP FILES\\data.xlsx\")"
   ]
  },
  {
   "cell_type": "code",
   "execution_count": 3,
   "id": "be2d78d3",
   "metadata": {},
   "outputs": [],
   "source": [
    "# Coping the data to another variable\n",
    "df = data.copy()"
   ]
  },
  {
   "cell_type": "code",
   "execution_count": 4,
   "id": "9132c02e",
   "metadata": {},
   "outputs": [
    {
     "data": {
      "text/html": [
       "<div>\n",
       "<style scoped>\n",
       "    .dataframe tbody tr th:only-of-type {\n",
       "        vertical-align: middle;\n",
       "    }\n",
       "\n",
       "    .dataframe tbody tr th {\n",
       "        vertical-align: top;\n",
       "    }\n",
       "\n",
       "    .dataframe thead th {\n",
       "        text-align: right;\n",
       "    }\n",
       "</style>\n",
       "<table border=\"1\" class=\"dataframe\">\n",
       "  <thead>\n",
       "    <tr style=\"text-align: right;\">\n",
       "      <th></th>\n",
       "      <th>Unnamed: 0</th>\n",
       "      <th>ID</th>\n",
       "      <th>Salary</th>\n",
       "      <th>DOJ</th>\n",
       "      <th>DOL</th>\n",
       "      <th>Designation</th>\n",
       "      <th>JobCity</th>\n",
       "      <th>Gender</th>\n",
       "      <th>DOB</th>\n",
       "      <th>10percentage</th>\n",
       "      <th>...</th>\n",
       "      <th>ComputerScience</th>\n",
       "      <th>MechanicalEngg</th>\n",
       "      <th>ElectricalEngg</th>\n",
       "      <th>TelecomEngg</th>\n",
       "      <th>CivilEngg</th>\n",
       "      <th>conscientiousness</th>\n",
       "      <th>agreeableness</th>\n",
       "      <th>extraversion</th>\n",
       "      <th>nueroticism</th>\n",
       "      <th>openess_to_experience</th>\n",
       "    </tr>\n",
       "  </thead>\n",
       "  <tbody>\n",
       "    <tr>\n",
       "      <th>0</th>\n",
       "      <td>train</td>\n",
       "      <td>203097</td>\n",
       "      <td>420000</td>\n",
       "      <td>2012-06-01</td>\n",
       "      <td>present</td>\n",
       "      <td>senior quality engineer</td>\n",
       "      <td>Bangalore</td>\n",
       "      <td>f</td>\n",
       "      <td>1990-02-19</td>\n",
       "      <td>84.30</td>\n",
       "      <td>...</td>\n",
       "      <td>-1</td>\n",
       "      <td>-1</td>\n",
       "      <td>-1</td>\n",
       "      <td>-1</td>\n",
       "      <td>-1</td>\n",
       "      <td>0.9737</td>\n",
       "      <td>0.8128</td>\n",
       "      <td>0.5269</td>\n",
       "      <td>1.35490</td>\n",
       "      <td>-0.4455</td>\n",
       "    </tr>\n",
       "    <tr>\n",
       "      <th>1</th>\n",
       "      <td>train</td>\n",
       "      <td>579905</td>\n",
       "      <td>500000</td>\n",
       "      <td>2013-09-01</td>\n",
       "      <td>present</td>\n",
       "      <td>assistant manager</td>\n",
       "      <td>Indore</td>\n",
       "      <td>m</td>\n",
       "      <td>1989-10-04</td>\n",
       "      <td>85.40</td>\n",
       "      <td>...</td>\n",
       "      <td>-1</td>\n",
       "      <td>-1</td>\n",
       "      <td>-1</td>\n",
       "      <td>-1</td>\n",
       "      <td>-1</td>\n",
       "      <td>-0.7335</td>\n",
       "      <td>0.3789</td>\n",
       "      <td>1.2396</td>\n",
       "      <td>-0.10760</td>\n",
       "      <td>0.8637</td>\n",
       "    </tr>\n",
       "    <tr>\n",
       "      <th>2</th>\n",
       "      <td>train</td>\n",
       "      <td>810601</td>\n",
       "      <td>325000</td>\n",
       "      <td>2014-06-01</td>\n",
       "      <td>present</td>\n",
       "      <td>systems engineer</td>\n",
       "      <td>Chennai</td>\n",
       "      <td>f</td>\n",
       "      <td>1992-08-03</td>\n",
       "      <td>85.00</td>\n",
       "      <td>...</td>\n",
       "      <td>-1</td>\n",
       "      <td>-1</td>\n",
       "      <td>-1</td>\n",
       "      <td>-1</td>\n",
       "      <td>-1</td>\n",
       "      <td>0.2718</td>\n",
       "      <td>1.7109</td>\n",
       "      <td>0.1637</td>\n",
       "      <td>-0.86820</td>\n",
       "      <td>0.6721</td>\n",
       "    </tr>\n",
       "    <tr>\n",
       "      <th>3</th>\n",
       "      <td>train</td>\n",
       "      <td>267447</td>\n",
       "      <td>1100000</td>\n",
       "      <td>2011-07-01</td>\n",
       "      <td>present</td>\n",
       "      <td>senior software engineer</td>\n",
       "      <td>Gurgaon</td>\n",
       "      <td>m</td>\n",
       "      <td>1989-12-05</td>\n",
       "      <td>85.60</td>\n",
       "      <td>...</td>\n",
       "      <td>-1</td>\n",
       "      <td>-1</td>\n",
       "      <td>-1</td>\n",
       "      <td>-1</td>\n",
       "      <td>-1</td>\n",
       "      <td>0.0464</td>\n",
       "      <td>0.3448</td>\n",
       "      <td>-0.3440</td>\n",
       "      <td>-0.40780</td>\n",
       "      <td>-0.9194</td>\n",
       "    </tr>\n",
       "    <tr>\n",
       "      <th>4</th>\n",
       "      <td>train</td>\n",
       "      <td>343523</td>\n",
       "      <td>200000</td>\n",
       "      <td>2014-03-01</td>\n",
       "      <td>2015-03-01 00:00:00</td>\n",
       "      <td>get</td>\n",
       "      <td>Manesar</td>\n",
       "      <td>m</td>\n",
       "      <td>1991-02-27</td>\n",
       "      <td>78.00</td>\n",
       "      <td>...</td>\n",
       "      <td>-1</td>\n",
       "      <td>-1</td>\n",
       "      <td>-1</td>\n",
       "      <td>-1</td>\n",
       "      <td>-1</td>\n",
       "      <td>-0.8810</td>\n",
       "      <td>-0.2793</td>\n",
       "      <td>-1.0697</td>\n",
       "      <td>0.09163</td>\n",
       "      <td>-0.1295</td>\n",
       "    </tr>\n",
       "    <tr>\n",
       "      <th>...</th>\n",
       "      <td>...</td>\n",
       "      <td>...</td>\n",
       "      <td>...</td>\n",
       "      <td>...</td>\n",
       "      <td>...</td>\n",
       "      <td>...</td>\n",
       "      <td>...</td>\n",
       "      <td>...</td>\n",
       "      <td>...</td>\n",
       "      <td>...</td>\n",
       "      <td>...</td>\n",
       "      <td>...</td>\n",
       "      <td>...</td>\n",
       "      <td>...</td>\n",
       "      <td>...</td>\n",
       "      <td>...</td>\n",
       "      <td>...</td>\n",
       "      <td>...</td>\n",
       "      <td>...</td>\n",
       "      <td>...</td>\n",
       "      <td>...</td>\n",
       "    </tr>\n",
       "    <tr>\n",
       "      <th>3993</th>\n",
       "      <td>train</td>\n",
       "      <td>47916</td>\n",
       "      <td>280000</td>\n",
       "      <td>2011-10-01</td>\n",
       "      <td>2012-10-01 00:00:00</td>\n",
       "      <td>software engineer</td>\n",
       "      <td>New Delhi</td>\n",
       "      <td>m</td>\n",
       "      <td>1987-04-15</td>\n",
       "      <td>52.09</td>\n",
       "      <td>...</td>\n",
       "      <td>-1</td>\n",
       "      <td>-1</td>\n",
       "      <td>-1</td>\n",
       "      <td>-1</td>\n",
       "      <td>-1</td>\n",
       "      <td>-0.1082</td>\n",
       "      <td>0.3448</td>\n",
       "      <td>0.2366</td>\n",
       "      <td>0.64980</td>\n",
       "      <td>-0.9194</td>\n",
       "    </tr>\n",
       "    <tr>\n",
       "      <th>3994</th>\n",
       "      <td>train</td>\n",
       "      <td>752781</td>\n",
       "      <td>100000</td>\n",
       "      <td>2013-07-01</td>\n",
       "      <td>2013-07-01 00:00:00</td>\n",
       "      <td>technical writer</td>\n",
       "      <td>Hyderabad</td>\n",
       "      <td>f</td>\n",
       "      <td>1992-08-27</td>\n",
       "      <td>90.00</td>\n",
       "      <td>...</td>\n",
       "      <td>-1</td>\n",
       "      <td>-1</td>\n",
       "      <td>-1</td>\n",
       "      <td>-1</td>\n",
       "      <td>-1</td>\n",
       "      <td>-0.3027</td>\n",
       "      <td>0.8784</td>\n",
       "      <td>0.9322</td>\n",
       "      <td>0.77980</td>\n",
       "      <td>-0.0943</td>\n",
       "    </tr>\n",
       "    <tr>\n",
       "      <th>3995</th>\n",
       "      <td>train</td>\n",
       "      <td>355888</td>\n",
       "      <td>320000</td>\n",
       "      <td>2013-07-01</td>\n",
       "      <td>present</td>\n",
       "      <td>associate software engineer</td>\n",
       "      <td>Bangalore</td>\n",
       "      <td>m</td>\n",
       "      <td>1991-07-03</td>\n",
       "      <td>81.86</td>\n",
       "      <td>...</td>\n",
       "      <td>-1</td>\n",
       "      <td>-1</td>\n",
       "      <td>-1</td>\n",
       "      <td>-1</td>\n",
       "      <td>-1</td>\n",
       "      <td>-1.5765</td>\n",
       "      <td>-1.5273</td>\n",
       "      <td>-1.5051</td>\n",
       "      <td>-1.31840</td>\n",
       "      <td>-0.7615</td>\n",
       "    </tr>\n",
       "    <tr>\n",
       "      <th>3996</th>\n",
       "      <td>train</td>\n",
       "      <td>947111</td>\n",
       "      <td>200000</td>\n",
       "      <td>2014-07-01</td>\n",
       "      <td>2015-01-01 00:00:00</td>\n",
       "      <td>software developer</td>\n",
       "      <td>Asifabadbanglore</td>\n",
       "      <td>f</td>\n",
       "      <td>1992-03-20</td>\n",
       "      <td>78.72</td>\n",
       "      <td>...</td>\n",
       "      <td>438</td>\n",
       "      <td>-1</td>\n",
       "      <td>-1</td>\n",
       "      <td>-1</td>\n",
       "      <td>-1</td>\n",
       "      <td>-0.1590</td>\n",
       "      <td>0.0459</td>\n",
       "      <td>-0.4511</td>\n",
       "      <td>-0.36120</td>\n",
       "      <td>-0.0943</td>\n",
       "    </tr>\n",
       "    <tr>\n",
       "      <th>3997</th>\n",
       "      <td>train</td>\n",
       "      <td>324966</td>\n",
       "      <td>400000</td>\n",
       "      <td>2013-02-01</td>\n",
       "      <td>present</td>\n",
       "      <td>senior systems engineer</td>\n",
       "      <td>Chennai</td>\n",
       "      <td>f</td>\n",
       "      <td>1991-02-26</td>\n",
       "      <td>70.60</td>\n",
       "      <td>...</td>\n",
       "      <td>-1</td>\n",
       "      <td>-1</td>\n",
       "      <td>-1</td>\n",
       "      <td>-1</td>\n",
       "      <td>-1</td>\n",
       "      <td>-1.1128</td>\n",
       "      <td>-0.2793</td>\n",
       "      <td>-0.6343</td>\n",
       "      <td>1.32553</td>\n",
       "      <td>-0.6035</td>\n",
       "    </tr>\n",
       "  </tbody>\n",
       "</table>\n",
       "<p>3998 rows × 39 columns</p>\n",
       "</div>"
      ],
      "text/plain": [
       "     Unnamed: 0      ID   Salary        DOJ                  DOL  \\\n",
       "0         train  203097   420000 2012-06-01              present   \n",
       "1         train  579905   500000 2013-09-01              present   \n",
       "2         train  810601   325000 2014-06-01              present   \n",
       "3         train  267447  1100000 2011-07-01              present   \n",
       "4         train  343523   200000 2014-03-01  2015-03-01 00:00:00   \n",
       "...         ...     ...      ...        ...                  ...   \n",
       "3993      train   47916   280000 2011-10-01  2012-10-01 00:00:00   \n",
       "3994      train  752781   100000 2013-07-01  2013-07-01 00:00:00   \n",
       "3995      train  355888   320000 2013-07-01              present   \n",
       "3996      train  947111   200000 2014-07-01  2015-01-01 00:00:00   \n",
       "3997      train  324966   400000 2013-02-01              present   \n",
       "\n",
       "                      Designation           JobCity Gender        DOB  \\\n",
       "0         senior quality engineer         Bangalore      f 1990-02-19   \n",
       "1               assistant manager            Indore      m 1989-10-04   \n",
       "2                systems engineer           Chennai      f 1992-08-03   \n",
       "3        senior software engineer           Gurgaon      m 1989-12-05   \n",
       "4                             get           Manesar      m 1991-02-27   \n",
       "...                           ...               ...    ...        ...   \n",
       "3993            software engineer        New Delhi       m 1987-04-15   \n",
       "3994             technical writer         Hyderabad      f 1992-08-27   \n",
       "3995  associate software engineer         Bangalore      m 1991-07-03   \n",
       "3996           software developer  Asifabadbanglore      f 1992-03-20   \n",
       "3997      senior systems engineer           Chennai      f 1991-02-26   \n",
       "\n",
       "      10percentage  ... ComputerScience  MechanicalEngg  ElectricalEngg  \\\n",
       "0            84.30  ...              -1              -1              -1   \n",
       "1            85.40  ...              -1              -1              -1   \n",
       "2            85.00  ...              -1              -1              -1   \n",
       "3            85.60  ...              -1              -1              -1   \n",
       "4            78.00  ...              -1              -1              -1   \n",
       "...            ...  ...             ...             ...             ...   \n",
       "3993         52.09  ...              -1              -1              -1   \n",
       "3994         90.00  ...              -1              -1              -1   \n",
       "3995         81.86  ...              -1              -1              -1   \n",
       "3996         78.72  ...             438              -1              -1   \n",
       "3997         70.60  ...              -1              -1              -1   \n",
       "\n",
       "     TelecomEngg  CivilEngg  conscientiousness agreeableness extraversion  \\\n",
       "0             -1         -1             0.9737        0.8128       0.5269   \n",
       "1             -1         -1            -0.7335        0.3789       1.2396   \n",
       "2             -1         -1             0.2718        1.7109       0.1637   \n",
       "3             -1         -1             0.0464        0.3448      -0.3440   \n",
       "4             -1         -1            -0.8810       -0.2793      -1.0697   \n",
       "...          ...        ...                ...           ...          ...   \n",
       "3993          -1         -1            -0.1082        0.3448       0.2366   \n",
       "3994          -1         -1            -0.3027        0.8784       0.9322   \n",
       "3995          -1         -1            -1.5765       -1.5273      -1.5051   \n",
       "3996          -1         -1            -0.1590        0.0459      -0.4511   \n",
       "3997          -1         -1            -1.1128       -0.2793      -0.6343   \n",
       "\n",
       "      nueroticism  openess_to_experience  \n",
       "0         1.35490                -0.4455  \n",
       "1        -0.10760                 0.8637  \n",
       "2        -0.86820                 0.6721  \n",
       "3        -0.40780                -0.9194  \n",
       "4         0.09163                -0.1295  \n",
       "...           ...                    ...  \n",
       "3993      0.64980                -0.9194  \n",
       "3994      0.77980                -0.0943  \n",
       "3995     -1.31840                -0.7615  \n",
       "3996     -0.36120                -0.0943  \n",
       "3997      1.32553                -0.6035  \n",
       "\n",
       "[3998 rows x 39 columns]"
      ]
     },
     "execution_count": 4,
     "metadata": {},
     "output_type": "execute_result"
    }
   ],
   "source": [
    "# Dataset\n",
    "df"
   ]
  },
  {
   "cell_type": "code",
   "execution_count": 5,
   "id": "c5a35032",
   "metadata": {},
   "outputs": [
    {
     "data": {
      "text/plain": [
       "(3998, 39)"
      ]
     },
     "execution_count": 5,
     "metadata": {},
     "output_type": "execute_result"
    }
   ],
   "source": [
    "# Displaying No.of rows and columns\n",
    "df.shape"
   ]
  },
  {
   "cell_type": "code",
   "execution_count": 6,
   "id": "6a24d0eb",
   "metadata": {},
   "outputs": [
    {
     "data": {
      "text/html": [
       "<div>\n",
       "<style scoped>\n",
       "    .dataframe tbody tr th:only-of-type {\n",
       "        vertical-align: middle;\n",
       "    }\n",
       "\n",
       "    .dataframe tbody tr th {\n",
       "        vertical-align: top;\n",
       "    }\n",
       "\n",
       "    .dataframe thead th {\n",
       "        text-align: right;\n",
       "    }\n",
       "</style>\n",
       "<table border=\"1\" class=\"dataframe\">\n",
       "  <thead>\n",
       "    <tr style=\"text-align: right;\">\n",
       "      <th></th>\n",
       "      <th>Unnamed: 0</th>\n",
       "      <th>ID</th>\n",
       "      <th>Salary</th>\n",
       "      <th>DOJ</th>\n",
       "      <th>DOL</th>\n",
       "      <th>Designation</th>\n",
       "      <th>JobCity</th>\n",
       "      <th>Gender</th>\n",
       "      <th>DOB</th>\n",
       "      <th>10percentage</th>\n",
       "      <th>...</th>\n",
       "      <th>ComputerScience</th>\n",
       "      <th>MechanicalEngg</th>\n",
       "      <th>ElectricalEngg</th>\n",
       "      <th>TelecomEngg</th>\n",
       "      <th>CivilEngg</th>\n",
       "      <th>conscientiousness</th>\n",
       "      <th>agreeableness</th>\n",
       "      <th>extraversion</th>\n",
       "      <th>nueroticism</th>\n",
       "      <th>openess_to_experience</th>\n",
       "    </tr>\n",
       "  </thead>\n",
       "  <tbody>\n",
       "    <tr>\n",
       "      <th>0</th>\n",
       "      <td>train</td>\n",
       "      <td>203097</td>\n",
       "      <td>420000</td>\n",
       "      <td>2012-06-01</td>\n",
       "      <td>present</td>\n",
       "      <td>senior quality engineer</td>\n",
       "      <td>Bangalore</td>\n",
       "      <td>f</td>\n",
       "      <td>1990-02-19</td>\n",
       "      <td>84.3</td>\n",
       "      <td>...</td>\n",
       "      <td>-1</td>\n",
       "      <td>-1</td>\n",
       "      <td>-1</td>\n",
       "      <td>-1</td>\n",
       "      <td>-1</td>\n",
       "      <td>0.9737</td>\n",
       "      <td>0.8128</td>\n",
       "      <td>0.5269</td>\n",
       "      <td>1.35490</td>\n",
       "      <td>-0.4455</td>\n",
       "    </tr>\n",
       "    <tr>\n",
       "      <th>1</th>\n",
       "      <td>train</td>\n",
       "      <td>579905</td>\n",
       "      <td>500000</td>\n",
       "      <td>2013-09-01</td>\n",
       "      <td>present</td>\n",
       "      <td>assistant manager</td>\n",
       "      <td>Indore</td>\n",
       "      <td>m</td>\n",
       "      <td>1989-10-04</td>\n",
       "      <td>85.4</td>\n",
       "      <td>...</td>\n",
       "      <td>-1</td>\n",
       "      <td>-1</td>\n",
       "      <td>-1</td>\n",
       "      <td>-1</td>\n",
       "      <td>-1</td>\n",
       "      <td>-0.7335</td>\n",
       "      <td>0.3789</td>\n",
       "      <td>1.2396</td>\n",
       "      <td>-0.10760</td>\n",
       "      <td>0.8637</td>\n",
       "    </tr>\n",
       "    <tr>\n",
       "      <th>2</th>\n",
       "      <td>train</td>\n",
       "      <td>810601</td>\n",
       "      <td>325000</td>\n",
       "      <td>2014-06-01</td>\n",
       "      <td>present</td>\n",
       "      <td>systems engineer</td>\n",
       "      <td>Chennai</td>\n",
       "      <td>f</td>\n",
       "      <td>1992-08-03</td>\n",
       "      <td>85.0</td>\n",
       "      <td>...</td>\n",
       "      <td>-1</td>\n",
       "      <td>-1</td>\n",
       "      <td>-1</td>\n",
       "      <td>-1</td>\n",
       "      <td>-1</td>\n",
       "      <td>0.2718</td>\n",
       "      <td>1.7109</td>\n",
       "      <td>0.1637</td>\n",
       "      <td>-0.86820</td>\n",
       "      <td>0.6721</td>\n",
       "    </tr>\n",
       "    <tr>\n",
       "      <th>3</th>\n",
       "      <td>train</td>\n",
       "      <td>267447</td>\n",
       "      <td>1100000</td>\n",
       "      <td>2011-07-01</td>\n",
       "      <td>present</td>\n",
       "      <td>senior software engineer</td>\n",
       "      <td>Gurgaon</td>\n",
       "      <td>m</td>\n",
       "      <td>1989-12-05</td>\n",
       "      <td>85.6</td>\n",
       "      <td>...</td>\n",
       "      <td>-1</td>\n",
       "      <td>-1</td>\n",
       "      <td>-1</td>\n",
       "      <td>-1</td>\n",
       "      <td>-1</td>\n",
       "      <td>0.0464</td>\n",
       "      <td>0.3448</td>\n",
       "      <td>-0.3440</td>\n",
       "      <td>-0.40780</td>\n",
       "      <td>-0.9194</td>\n",
       "    </tr>\n",
       "    <tr>\n",
       "      <th>4</th>\n",
       "      <td>train</td>\n",
       "      <td>343523</td>\n",
       "      <td>200000</td>\n",
       "      <td>2014-03-01</td>\n",
       "      <td>2015-03-01 00:00:00</td>\n",
       "      <td>get</td>\n",
       "      <td>Manesar</td>\n",
       "      <td>m</td>\n",
       "      <td>1991-02-27</td>\n",
       "      <td>78.0</td>\n",
       "      <td>...</td>\n",
       "      <td>-1</td>\n",
       "      <td>-1</td>\n",
       "      <td>-1</td>\n",
       "      <td>-1</td>\n",
       "      <td>-1</td>\n",
       "      <td>-0.8810</td>\n",
       "      <td>-0.2793</td>\n",
       "      <td>-1.0697</td>\n",
       "      <td>0.09163</td>\n",
       "      <td>-0.1295</td>\n",
       "    </tr>\n",
       "  </tbody>\n",
       "</table>\n",
       "<p>5 rows × 39 columns</p>\n",
       "</div>"
      ],
      "text/plain": [
       "  Unnamed: 0      ID   Salary        DOJ                  DOL  \\\n",
       "0      train  203097   420000 2012-06-01              present   \n",
       "1      train  579905   500000 2013-09-01              present   \n",
       "2      train  810601   325000 2014-06-01              present   \n",
       "3      train  267447  1100000 2011-07-01              present   \n",
       "4      train  343523   200000 2014-03-01  2015-03-01 00:00:00   \n",
       "\n",
       "                Designation    JobCity Gender        DOB  10percentage  ...  \\\n",
       "0   senior quality engineer  Bangalore      f 1990-02-19          84.3  ...   \n",
       "1         assistant manager     Indore      m 1989-10-04          85.4  ...   \n",
       "2          systems engineer    Chennai      f 1992-08-03          85.0  ...   \n",
       "3  senior software engineer    Gurgaon      m 1989-12-05          85.6  ...   \n",
       "4                       get    Manesar      m 1991-02-27          78.0  ...   \n",
       "\n",
       "  ComputerScience  MechanicalEngg  ElectricalEngg TelecomEngg  CivilEngg  \\\n",
       "0              -1              -1              -1          -1         -1   \n",
       "1              -1              -1              -1          -1         -1   \n",
       "2              -1              -1              -1          -1         -1   \n",
       "3              -1              -1              -1          -1         -1   \n",
       "4              -1              -1              -1          -1         -1   \n",
       "\n",
       "   conscientiousness agreeableness extraversion  nueroticism  \\\n",
       "0             0.9737        0.8128       0.5269      1.35490   \n",
       "1            -0.7335        0.3789       1.2396     -0.10760   \n",
       "2             0.2718        1.7109       0.1637     -0.86820   \n",
       "3             0.0464        0.3448      -0.3440     -0.40780   \n",
       "4            -0.8810       -0.2793      -1.0697      0.09163   \n",
       "\n",
       "   openess_to_experience  \n",
       "0                -0.4455  \n",
       "1                 0.8637  \n",
       "2                 0.6721  \n",
       "3                -0.9194  \n",
       "4                -0.1295  \n",
       "\n",
       "[5 rows x 39 columns]"
      ]
     },
     "execution_count": 6,
     "metadata": {},
     "output_type": "execute_result"
    }
   ],
   "source": [
    "# Checking first five rows\n",
    "df.head()"
   ]
  },
  {
   "cell_type": "code",
   "execution_count": 7,
   "id": "61fed735",
   "metadata": {},
   "outputs": [
    {
     "data": {
      "text/plain": [
       "Index(['Unnamed: 0', 'ID', 'Salary', 'DOJ', 'DOL', 'Designation', 'JobCity',\n",
       "       'Gender', 'DOB', '10percentage', '10board', '12graduation',\n",
       "       '12percentage', '12board', 'CollegeID', 'CollegeTier', 'Degree',\n",
       "       'Specialization', 'collegeGPA', 'CollegeCityID', 'CollegeCityTier',\n",
       "       'CollegeState', 'GraduationYear', 'English', 'Logical', 'Quant',\n",
       "       'Domain', 'ComputerProgramming', 'ElectronicsAndSemicon',\n",
       "       'ComputerScience', 'MechanicalEngg', 'ElectricalEngg', 'TelecomEngg',\n",
       "       'CivilEngg', 'conscientiousness', 'agreeableness', 'extraversion',\n",
       "       'nueroticism', 'openess_to_experience'],\n",
       "      dtype='object')"
      ]
     },
     "execution_count": 7,
     "metadata": {},
     "output_type": "execute_result"
    }
   ],
   "source": [
    "df.columns"
   ]
  },
  {
   "cell_type": "code",
   "execution_count": 8,
   "id": "49d92b42",
   "metadata": {},
   "outputs": [
    {
     "data": {
      "text/plain": [
       "0"
      ]
     },
     "execution_count": 8,
     "metadata": {},
     "output_type": "execute_result"
    }
   ],
   "source": [
    "# Checking for the no.of duplicates\n",
    "df.duplicated().sum()"
   ]
  },
  {
   "cell_type": "code",
   "execution_count": 9,
   "id": "e0b9e3c4",
   "metadata": {},
   "outputs": [
    {
     "data": {
      "text/plain": [
       "Unnamed: 0               0\n",
       "ID                       0\n",
       "Salary                   0\n",
       "DOJ                      0\n",
       "DOL                      0\n",
       "Designation              0\n",
       "JobCity                  0\n",
       "Gender                   0\n",
       "DOB                      0\n",
       "10percentage             0\n",
       "10board                  0\n",
       "12graduation             0\n",
       "12percentage             0\n",
       "12board                  0\n",
       "CollegeID                0\n",
       "CollegeTier              0\n",
       "Degree                   0\n",
       "Specialization           0\n",
       "collegeGPA               0\n",
       "CollegeCityID            0\n",
       "CollegeCityTier          0\n",
       "CollegeState             0\n",
       "GraduationYear           0\n",
       "English                  0\n",
       "Logical                  0\n",
       "Quant                    0\n",
       "Domain                   0\n",
       "ComputerProgramming      0\n",
       "ElectronicsAndSemicon    0\n",
       "ComputerScience          0\n",
       "MechanicalEngg           0\n",
       "ElectricalEngg           0\n",
       "TelecomEngg              0\n",
       "CivilEngg                0\n",
       "conscientiousness        0\n",
       "agreeableness            0\n",
       "extraversion             0\n",
       "nueroticism              0\n",
       "openess_to_experience    0\n",
       "dtype: int64"
      ]
     },
     "execution_count": 9,
     "metadata": {},
     "output_type": "execute_result"
    }
   ],
   "source": [
    "# Checking for the null values\n",
    "df.isna().sum()"
   ]
  },
  {
   "cell_type": "code",
   "execution_count": 10,
   "id": "221d5003",
   "metadata": {},
   "outputs": [],
   "source": [
    "columns_to_remove = ['Unnamed: 0', 'ID','CollegeCityID','CollegeCityTier','Domain','ComputerProgramming','ElectronicsAndSemicon','ComputerScience','MechanicalEngg','ElectricalEngg','TelecomEngg','CivilEngg']\n",
    "\n",
    "df.drop(columns=columns_to_remove,inplace=True)"
   ]
  },
  {
   "cell_type": "code",
   "execution_count": 11,
   "id": "177e7df6",
   "metadata": {},
   "outputs": [
    {
     "data": {
      "text/html": [
       "<div>\n",
       "<style scoped>\n",
       "    .dataframe tbody tr th:only-of-type {\n",
       "        vertical-align: middle;\n",
       "    }\n",
       "\n",
       "    .dataframe tbody tr th {\n",
       "        vertical-align: top;\n",
       "    }\n",
       "\n",
       "    .dataframe thead th {\n",
       "        text-align: right;\n",
       "    }\n",
       "</style>\n",
       "<table border=\"1\" class=\"dataframe\">\n",
       "  <thead>\n",
       "    <tr style=\"text-align: right;\">\n",
       "      <th></th>\n",
       "      <th>Salary</th>\n",
       "      <th>DOJ</th>\n",
       "      <th>DOL</th>\n",
       "      <th>Designation</th>\n",
       "      <th>JobCity</th>\n",
       "      <th>Gender</th>\n",
       "      <th>DOB</th>\n",
       "      <th>10percentage</th>\n",
       "      <th>10board</th>\n",
       "      <th>12graduation</th>\n",
       "      <th>...</th>\n",
       "      <th>CollegeState</th>\n",
       "      <th>GraduationYear</th>\n",
       "      <th>English</th>\n",
       "      <th>Logical</th>\n",
       "      <th>Quant</th>\n",
       "      <th>conscientiousness</th>\n",
       "      <th>agreeableness</th>\n",
       "      <th>extraversion</th>\n",
       "      <th>nueroticism</th>\n",
       "      <th>openess_to_experience</th>\n",
       "    </tr>\n",
       "  </thead>\n",
       "  <tbody>\n",
       "    <tr>\n",
       "      <th>0</th>\n",
       "      <td>420000</td>\n",
       "      <td>2012-06-01</td>\n",
       "      <td>present</td>\n",
       "      <td>senior quality engineer</td>\n",
       "      <td>Bangalore</td>\n",
       "      <td>f</td>\n",
       "      <td>1990-02-19</td>\n",
       "      <td>84.3</td>\n",
       "      <td>board ofsecondary education,ap</td>\n",
       "      <td>2007</td>\n",
       "      <td>...</td>\n",
       "      <td>Andhra Pradesh</td>\n",
       "      <td>2011</td>\n",
       "      <td>515</td>\n",
       "      <td>585</td>\n",
       "      <td>525</td>\n",
       "      <td>0.9737</td>\n",
       "      <td>0.8128</td>\n",
       "      <td>0.5269</td>\n",
       "      <td>1.35490</td>\n",
       "      <td>-0.4455</td>\n",
       "    </tr>\n",
       "    <tr>\n",
       "      <th>1</th>\n",
       "      <td>500000</td>\n",
       "      <td>2013-09-01</td>\n",
       "      <td>present</td>\n",
       "      <td>assistant manager</td>\n",
       "      <td>Indore</td>\n",
       "      <td>m</td>\n",
       "      <td>1989-10-04</td>\n",
       "      <td>85.4</td>\n",
       "      <td>cbse</td>\n",
       "      <td>2007</td>\n",
       "      <td>...</td>\n",
       "      <td>Madhya Pradesh</td>\n",
       "      <td>2012</td>\n",
       "      <td>695</td>\n",
       "      <td>610</td>\n",
       "      <td>780</td>\n",
       "      <td>-0.7335</td>\n",
       "      <td>0.3789</td>\n",
       "      <td>1.2396</td>\n",
       "      <td>-0.10760</td>\n",
       "      <td>0.8637</td>\n",
       "    </tr>\n",
       "    <tr>\n",
       "      <th>2</th>\n",
       "      <td>325000</td>\n",
       "      <td>2014-06-01</td>\n",
       "      <td>present</td>\n",
       "      <td>systems engineer</td>\n",
       "      <td>Chennai</td>\n",
       "      <td>f</td>\n",
       "      <td>1992-08-03</td>\n",
       "      <td>85.0</td>\n",
       "      <td>cbse</td>\n",
       "      <td>2010</td>\n",
       "      <td>...</td>\n",
       "      <td>Uttar Pradesh</td>\n",
       "      <td>2014</td>\n",
       "      <td>615</td>\n",
       "      <td>545</td>\n",
       "      <td>370</td>\n",
       "      <td>0.2718</td>\n",
       "      <td>1.7109</td>\n",
       "      <td>0.1637</td>\n",
       "      <td>-0.86820</td>\n",
       "      <td>0.6721</td>\n",
       "    </tr>\n",
       "    <tr>\n",
       "      <th>3</th>\n",
       "      <td>1100000</td>\n",
       "      <td>2011-07-01</td>\n",
       "      <td>present</td>\n",
       "      <td>senior software engineer</td>\n",
       "      <td>Gurgaon</td>\n",
       "      <td>m</td>\n",
       "      <td>1989-12-05</td>\n",
       "      <td>85.6</td>\n",
       "      <td>cbse</td>\n",
       "      <td>2007</td>\n",
       "      <td>...</td>\n",
       "      <td>Delhi</td>\n",
       "      <td>2011</td>\n",
       "      <td>635</td>\n",
       "      <td>585</td>\n",
       "      <td>625</td>\n",
       "      <td>0.0464</td>\n",
       "      <td>0.3448</td>\n",
       "      <td>-0.3440</td>\n",
       "      <td>-0.40780</td>\n",
       "      <td>-0.9194</td>\n",
       "    </tr>\n",
       "    <tr>\n",
       "      <th>4</th>\n",
       "      <td>200000</td>\n",
       "      <td>2014-03-01</td>\n",
       "      <td>2015-03-01 00:00:00</td>\n",
       "      <td>get</td>\n",
       "      <td>Manesar</td>\n",
       "      <td>m</td>\n",
       "      <td>1991-02-27</td>\n",
       "      <td>78.0</td>\n",
       "      <td>cbse</td>\n",
       "      <td>2008</td>\n",
       "      <td>...</td>\n",
       "      <td>Uttar Pradesh</td>\n",
       "      <td>2012</td>\n",
       "      <td>545</td>\n",
       "      <td>625</td>\n",
       "      <td>465</td>\n",
       "      <td>-0.8810</td>\n",
       "      <td>-0.2793</td>\n",
       "      <td>-1.0697</td>\n",
       "      <td>0.09163</td>\n",
       "      <td>-0.1295</td>\n",
       "    </tr>\n",
       "  </tbody>\n",
       "</table>\n",
       "<p>5 rows × 27 columns</p>\n",
       "</div>"
      ],
      "text/plain": [
       "    Salary        DOJ                  DOL               Designation  \\\n",
       "0   420000 2012-06-01              present   senior quality engineer   \n",
       "1   500000 2013-09-01              present         assistant manager   \n",
       "2   325000 2014-06-01              present          systems engineer   \n",
       "3  1100000 2011-07-01              present  senior software engineer   \n",
       "4   200000 2014-03-01  2015-03-01 00:00:00                       get   \n",
       "\n",
       "     JobCity Gender        DOB  10percentage                         10board  \\\n",
       "0  Bangalore      f 1990-02-19          84.3  board ofsecondary education,ap   \n",
       "1     Indore      m 1989-10-04          85.4                            cbse   \n",
       "2    Chennai      f 1992-08-03          85.0                            cbse   \n",
       "3    Gurgaon      m 1989-12-05          85.6                            cbse   \n",
       "4    Manesar      m 1991-02-27          78.0                            cbse   \n",
       "\n",
       "   12graduation  ...    CollegeState GraduationYear  English  Logical Quant  \\\n",
       "0          2007  ...  Andhra Pradesh           2011      515      585   525   \n",
       "1          2007  ...  Madhya Pradesh           2012      695      610   780   \n",
       "2          2010  ...   Uttar Pradesh           2014      615      545   370   \n",
       "3          2007  ...           Delhi           2011      635      585   625   \n",
       "4          2008  ...   Uttar Pradesh           2012      545      625   465   \n",
       "\n",
       "  conscientiousness  agreeableness extraversion  nueroticism  \\\n",
       "0            0.9737         0.8128       0.5269      1.35490   \n",
       "1           -0.7335         0.3789       1.2396     -0.10760   \n",
       "2            0.2718         1.7109       0.1637     -0.86820   \n",
       "3            0.0464         0.3448      -0.3440     -0.40780   \n",
       "4           -0.8810        -0.2793      -1.0697      0.09163   \n",
       "\n",
       "   openess_to_experience  \n",
       "0                -0.4455  \n",
       "1                 0.8637  \n",
       "2                 0.6721  \n",
       "3                -0.9194  \n",
       "4                -0.1295  \n",
       "\n",
       "[5 rows x 27 columns]"
      ]
     },
     "execution_count": 11,
     "metadata": {},
     "output_type": "execute_result"
    }
   ],
   "source": [
    "df.head()"
   ]
  },
  {
   "cell_type": "code",
   "execution_count": 12,
   "id": "d65b673c",
   "metadata": {},
   "outputs": [
    {
     "data": {
      "text/plain": [
       "Index(['Salary', 'DOJ', 'DOL', 'Designation', 'JobCity', 'Gender', 'DOB',\n",
       "       '10percentage', '10board', '12graduation', '12percentage', '12board',\n",
       "       'CollegeID', 'CollegeTier', 'Degree', 'Specialization', 'collegeGPA',\n",
       "       'CollegeState', 'GraduationYear', 'English', 'Logical', 'Quant',\n",
       "       'conscientiousness', 'agreeableness', 'extraversion', 'nueroticism',\n",
       "       'openess_to_experience'],\n",
       "      dtype='object')"
      ]
     },
     "execution_count": 12,
     "metadata": {},
     "output_type": "execute_result"
    }
   ],
   "source": [
    "df.columns"
   ]
  },
  {
   "cell_type": "code",
   "execution_count": 13,
   "id": "6d03f361",
   "metadata": {},
   "outputs": [],
   "source": [
    "df.columns = df.columns.str.strip()"
   ]
  },
  {
   "cell_type": "code",
   "execution_count": 14,
   "id": "02455379",
   "metadata": {},
   "outputs": [
    {
     "data": {
      "text/plain": [
       "Index(['Salary', 'DOJ', 'DOL', 'Designation', 'JobCity', 'Gender', 'DOB',\n",
       "       '10percentage', '10board', '12graduation', '12percentage', '12board',\n",
       "       'CollegeID', 'CollegeTier', 'Degree', 'Specialization', 'collegeGPA',\n",
       "       'CollegeState', 'GraduationYear', 'English', 'Logical', 'Quant',\n",
       "       'conscientiousness', 'agreeableness', 'extraversion', 'nueroticism',\n",
       "       'openess_to_experience'],\n",
       "      dtype='object')"
      ]
     },
     "execution_count": 14,
     "metadata": {},
     "output_type": "execute_result"
    }
   ],
   "source": [
    "df.columns"
   ]
  },
  {
   "cell_type": "code",
   "execution_count": 15,
   "id": "cf2e4b15",
   "metadata": {},
   "outputs": [
    {
     "data": {
      "text/html": [
       "<div>\n",
       "<style scoped>\n",
       "    .dataframe tbody tr th:only-of-type {\n",
       "        vertical-align: middle;\n",
       "    }\n",
       "\n",
       "    .dataframe tbody tr th {\n",
       "        vertical-align: top;\n",
       "    }\n",
       "\n",
       "    .dataframe thead th {\n",
       "        text-align: right;\n",
       "    }\n",
       "</style>\n",
       "<table border=\"1\" class=\"dataframe\">\n",
       "  <thead>\n",
       "    <tr style=\"text-align: right;\">\n",
       "      <th></th>\n",
       "      <th>Salary</th>\n",
       "      <th>10percentage</th>\n",
       "      <th>12graduation</th>\n",
       "      <th>12percentage</th>\n",
       "      <th>CollegeID</th>\n",
       "      <th>CollegeTier</th>\n",
       "      <th>collegeGPA</th>\n",
       "      <th>GraduationYear</th>\n",
       "      <th>English</th>\n",
       "      <th>Logical</th>\n",
       "      <th>Quant</th>\n",
       "      <th>conscientiousness</th>\n",
       "      <th>agreeableness</th>\n",
       "      <th>extraversion</th>\n",
       "      <th>nueroticism</th>\n",
       "      <th>openess_to_experience</th>\n",
       "    </tr>\n",
       "  </thead>\n",
       "  <tbody>\n",
       "    <tr>\n",
       "      <th>count</th>\n",
       "      <td>3.998000e+03</td>\n",
       "      <td>3998.000000</td>\n",
       "      <td>3998.000000</td>\n",
       "      <td>3998.000000</td>\n",
       "      <td>3998.000000</td>\n",
       "      <td>3998.000000</td>\n",
       "      <td>3998.000000</td>\n",
       "      <td>3998.000000</td>\n",
       "      <td>3998.000000</td>\n",
       "      <td>3998.000000</td>\n",
       "      <td>3998.000000</td>\n",
       "      <td>3998.000000</td>\n",
       "      <td>3998.000000</td>\n",
       "      <td>3998.000000</td>\n",
       "      <td>3998.000000</td>\n",
       "      <td>3998.000000</td>\n",
       "    </tr>\n",
       "    <tr>\n",
       "      <th>mean</th>\n",
       "      <td>3.076998e+05</td>\n",
       "      <td>77.925443</td>\n",
       "      <td>2008.087544</td>\n",
       "      <td>74.466366</td>\n",
       "      <td>5156.851426</td>\n",
       "      <td>1.925713</td>\n",
       "      <td>71.486171</td>\n",
       "      <td>2012.105803</td>\n",
       "      <td>501.649075</td>\n",
       "      <td>501.598799</td>\n",
       "      <td>513.378189</td>\n",
       "      <td>-0.037831</td>\n",
       "      <td>0.146496</td>\n",
       "      <td>0.002763</td>\n",
       "      <td>-0.169033</td>\n",
       "      <td>-0.138110</td>\n",
       "    </tr>\n",
       "    <tr>\n",
       "      <th>std</th>\n",
       "      <td>2.127375e+05</td>\n",
       "      <td>9.850162</td>\n",
       "      <td>1.653599</td>\n",
       "      <td>10.999933</td>\n",
       "      <td>4802.261482</td>\n",
       "      <td>0.262270</td>\n",
       "      <td>8.167338</td>\n",
       "      <td>31.857271</td>\n",
       "      <td>104.940021</td>\n",
       "      <td>86.783297</td>\n",
       "      <td>122.302332</td>\n",
       "      <td>1.028666</td>\n",
       "      <td>0.941782</td>\n",
       "      <td>0.951471</td>\n",
       "      <td>1.007580</td>\n",
       "      <td>1.008075</td>\n",
       "    </tr>\n",
       "    <tr>\n",
       "      <th>min</th>\n",
       "      <td>3.500000e+04</td>\n",
       "      <td>43.000000</td>\n",
       "      <td>1995.000000</td>\n",
       "      <td>40.000000</td>\n",
       "      <td>2.000000</td>\n",
       "      <td>1.000000</td>\n",
       "      <td>6.450000</td>\n",
       "      <td>0.000000</td>\n",
       "      <td>180.000000</td>\n",
       "      <td>195.000000</td>\n",
       "      <td>120.000000</td>\n",
       "      <td>-4.126700</td>\n",
       "      <td>-5.781600</td>\n",
       "      <td>-4.600900</td>\n",
       "      <td>-2.643000</td>\n",
       "      <td>-7.375700</td>\n",
       "    </tr>\n",
       "    <tr>\n",
       "      <th>25%</th>\n",
       "      <td>1.800000e+05</td>\n",
       "      <td>71.680000</td>\n",
       "      <td>2007.000000</td>\n",
       "      <td>66.000000</td>\n",
       "      <td>494.000000</td>\n",
       "      <td>2.000000</td>\n",
       "      <td>66.407500</td>\n",
       "      <td>2012.000000</td>\n",
       "      <td>425.000000</td>\n",
       "      <td>445.000000</td>\n",
       "      <td>430.000000</td>\n",
       "      <td>-0.713525</td>\n",
       "      <td>-0.287100</td>\n",
       "      <td>-0.604800</td>\n",
       "      <td>-0.868200</td>\n",
       "      <td>-0.669200</td>\n",
       "    </tr>\n",
       "    <tr>\n",
       "      <th>50%</th>\n",
       "      <td>3.000000e+05</td>\n",
       "      <td>79.150000</td>\n",
       "      <td>2008.000000</td>\n",
       "      <td>74.400000</td>\n",
       "      <td>3879.000000</td>\n",
       "      <td>2.000000</td>\n",
       "      <td>71.720000</td>\n",
       "      <td>2013.000000</td>\n",
       "      <td>500.000000</td>\n",
       "      <td>505.000000</td>\n",
       "      <td>515.000000</td>\n",
       "      <td>0.046400</td>\n",
       "      <td>0.212400</td>\n",
       "      <td>0.091400</td>\n",
       "      <td>-0.234400</td>\n",
       "      <td>-0.094300</td>\n",
       "    </tr>\n",
       "    <tr>\n",
       "      <th>75%</th>\n",
       "      <td>3.700000e+05</td>\n",
       "      <td>85.670000</td>\n",
       "      <td>2009.000000</td>\n",
       "      <td>82.600000</td>\n",
       "      <td>8818.000000</td>\n",
       "      <td>2.000000</td>\n",
       "      <td>76.327500</td>\n",
       "      <td>2014.000000</td>\n",
       "      <td>570.000000</td>\n",
       "      <td>565.000000</td>\n",
       "      <td>595.000000</td>\n",
       "      <td>0.702700</td>\n",
       "      <td>0.812800</td>\n",
       "      <td>0.672000</td>\n",
       "      <td>0.526200</td>\n",
       "      <td>0.502400</td>\n",
       "    </tr>\n",
       "    <tr>\n",
       "      <th>max</th>\n",
       "      <td>4.000000e+06</td>\n",
       "      <td>97.760000</td>\n",
       "      <td>2013.000000</td>\n",
       "      <td>98.700000</td>\n",
       "      <td>18409.000000</td>\n",
       "      <td>2.000000</td>\n",
       "      <td>99.930000</td>\n",
       "      <td>2017.000000</td>\n",
       "      <td>875.000000</td>\n",
       "      <td>795.000000</td>\n",
       "      <td>900.000000</td>\n",
       "      <td>1.995300</td>\n",
       "      <td>1.904800</td>\n",
       "      <td>2.535400</td>\n",
       "      <td>3.352500</td>\n",
       "      <td>1.822400</td>\n",
       "    </tr>\n",
       "  </tbody>\n",
       "</table>\n",
       "</div>"
      ],
      "text/plain": [
       "             Salary  10percentage  12graduation  12percentage     CollegeID  \\\n",
       "count  3.998000e+03   3998.000000   3998.000000   3998.000000   3998.000000   \n",
       "mean   3.076998e+05     77.925443   2008.087544     74.466366   5156.851426   \n",
       "std    2.127375e+05      9.850162      1.653599     10.999933   4802.261482   \n",
       "min    3.500000e+04     43.000000   1995.000000     40.000000      2.000000   \n",
       "25%    1.800000e+05     71.680000   2007.000000     66.000000    494.000000   \n",
       "50%    3.000000e+05     79.150000   2008.000000     74.400000   3879.000000   \n",
       "75%    3.700000e+05     85.670000   2009.000000     82.600000   8818.000000   \n",
       "max    4.000000e+06     97.760000   2013.000000     98.700000  18409.000000   \n",
       "\n",
       "       CollegeTier   collegeGPA  GraduationYear      English      Logical  \\\n",
       "count  3998.000000  3998.000000     3998.000000  3998.000000  3998.000000   \n",
       "mean      1.925713    71.486171     2012.105803   501.649075   501.598799   \n",
       "std       0.262270     8.167338       31.857271   104.940021    86.783297   \n",
       "min       1.000000     6.450000        0.000000   180.000000   195.000000   \n",
       "25%       2.000000    66.407500     2012.000000   425.000000   445.000000   \n",
       "50%       2.000000    71.720000     2013.000000   500.000000   505.000000   \n",
       "75%       2.000000    76.327500     2014.000000   570.000000   565.000000   \n",
       "max       2.000000    99.930000     2017.000000   875.000000   795.000000   \n",
       "\n",
       "             Quant  conscientiousness  agreeableness  extraversion  \\\n",
       "count  3998.000000        3998.000000    3998.000000   3998.000000   \n",
       "mean    513.378189          -0.037831       0.146496      0.002763   \n",
       "std     122.302332           1.028666       0.941782      0.951471   \n",
       "min     120.000000          -4.126700      -5.781600     -4.600900   \n",
       "25%     430.000000          -0.713525      -0.287100     -0.604800   \n",
       "50%     515.000000           0.046400       0.212400      0.091400   \n",
       "75%     595.000000           0.702700       0.812800      0.672000   \n",
       "max     900.000000           1.995300       1.904800      2.535400   \n",
       "\n",
       "       nueroticism  openess_to_experience  \n",
       "count  3998.000000            3998.000000  \n",
       "mean     -0.169033              -0.138110  \n",
       "std       1.007580               1.008075  \n",
       "min      -2.643000              -7.375700  \n",
       "25%      -0.868200              -0.669200  \n",
       "50%      -0.234400              -0.094300  \n",
       "75%       0.526200               0.502400  \n",
       "max       3.352500               1.822400  "
      ]
     },
     "execution_count": 15,
     "metadata": {},
     "output_type": "execute_result"
    }
   ],
   "source": [
    "df.describe()"
   ]
  },
  {
   "cell_type": "code",
   "execution_count": 16,
   "id": "1b167e61",
   "metadata": {},
   "outputs": [
    {
     "data": {
      "text/html": [
       "<div>\n",
       "<style scoped>\n",
       "    .dataframe tbody tr th:only-of-type {\n",
       "        vertical-align: middle;\n",
       "    }\n",
       "\n",
       "    .dataframe tbody tr th {\n",
       "        vertical-align: top;\n",
       "    }\n",
       "\n",
       "    .dataframe thead th {\n",
       "        text-align: right;\n",
       "    }\n",
       "</style>\n",
       "<table border=\"1\" class=\"dataframe\">\n",
       "  <thead>\n",
       "    <tr style=\"text-align: right;\">\n",
       "      <th></th>\n",
       "      <th>DOL</th>\n",
       "      <th>Designation</th>\n",
       "      <th>JobCity</th>\n",
       "      <th>Gender</th>\n",
       "      <th>10board</th>\n",
       "      <th>12board</th>\n",
       "      <th>Degree</th>\n",
       "      <th>Specialization</th>\n",
       "      <th>CollegeState</th>\n",
       "    </tr>\n",
       "  </thead>\n",
       "  <tbody>\n",
       "    <tr>\n",
       "      <th>count</th>\n",
       "      <td>3998</td>\n",
       "      <td>3998</td>\n",
       "      <td>3998</td>\n",
       "      <td>3998</td>\n",
       "      <td>3998</td>\n",
       "      <td>3998</td>\n",
       "      <td>3998</td>\n",
       "      <td>3998</td>\n",
       "      <td>3998</td>\n",
       "    </tr>\n",
       "    <tr>\n",
       "      <th>unique</th>\n",
       "      <td>67</td>\n",
       "      <td>419</td>\n",
       "      <td>339</td>\n",
       "      <td>2</td>\n",
       "      <td>275</td>\n",
       "      <td>340</td>\n",
       "      <td>4</td>\n",
       "      <td>46</td>\n",
       "      <td>26</td>\n",
       "    </tr>\n",
       "    <tr>\n",
       "      <th>top</th>\n",
       "      <td>present</td>\n",
       "      <td>software engineer</td>\n",
       "      <td>Bangalore</td>\n",
       "      <td>m</td>\n",
       "      <td>cbse</td>\n",
       "      <td>cbse</td>\n",
       "      <td>B.Tech/B.E.</td>\n",
       "      <td>electronics and communication engineering</td>\n",
       "      <td>Uttar Pradesh</td>\n",
       "    </tr>\n",
       "    <tr>\n",
       "      <th>freq</th>\n",
       "      <td>1875</td>\n",
       "      <td>539</td>\n",
       "      <td>627</td>\n",
       "      <td>3041</td>\n",
       "      <td>1395</td>\n",
       "      <td>1400</td>\n",
       "      <td>3700</td>\n",
       "      <td>880</td>\n",
       "      <td>915</td>\n",
       "    </tr>\n",
       "  </tbody>\n",
       "</table>\n",
       "</div>"
      ],
      "text/plain": [
       "            DOL        Designation    JobCity Gender 10board 12board  \\\n",
       "count      3998               3998       3998   3998    3998    3998   \n",
       "unique       67                419        339      2     275     340   \n",
       "top     present  software engineer  Bangalore      m    cbse    cbse   \n",
       "freq       1875                539        627   3041    1395    1400   \n",
       "\n",
       "             Degree                             Specialization   CollegeState  \n",
       "count          3998                                       3998           3998  \n",
       "unique            4                                         46             26  \n",
       "top     B.Tech/B.E.  electronics and communication engineering  Uttar Pradesh  \n",
       "freq           3700                                        880            915  "
      ]
     },
     "execution_count": 16,
     "metadata": {},
     "output_type": "execute_result"
    }
   ],
   "source": [
    "df.describe(include=\"object\")"
   ]
  },
  {
   "cell_type": "markdown",
   "id": "e5a48a3e",
   "metadata": {},
   "source": [
    "# Data Cleaning"
   ]
  },
  {
   "cell_type": "markdown",
   "id": "415ddcd8",
   "metadata": {},
   "source": [
    "**DOL**"
   ]
  },
  {
   "cell_type": "code",
   "execution_count": 17,
   "id": "6caad9fa",
   "metadata": {},
   "outputs": [],
   "source": [
    "df['DOL'] = df['DOL'].replace('present','2015-12-31')\n",
    "\n",
    "df['DOL'] = pd.to_datetime(df['DOL'])"
   ]
  },
  {
   "cell_type": "code",
   "execution_count": 18,
   "id": "d407b322",
   "metadata": {},
   "outputs": [
    {
     "data": {
      "text/plain": [
       "0      2015-12-31\n",
       "1      2015-12-31\n",
       "2      2015-12-31\n",
       "3      2015-12-31\n",
       "4      2015-03-01\n",
       "          ...    \n",
       "3993   2012-10-01\n",
       "3994   2013-07-01\n",
       "3995   2015-12-31\n",
       "3996   2015-01-01\n",
       "3997   2015-12-31\n",
       "Name: DOL, Length: 3998, dtype: datetime64[ns]"
      ]
     },
     "execution_count": 18,
     "metadata": {},
     "output_type": "execute_result"
    }
   ],
   "source": [
    "df['DOL']"
   ]
  },
  {
   "cell_type": "markdown",
   "id": "e597f08e",
   "metadata": {},
   "source": [
    "**jobcity**"
   ]
  },
  {
   "cell_type": "code",
   "execution_count": 19,
   "id": "aa1a94f8",
   "metadata": {},
   "outputs": [
    {
     "data": {
      "text/plain": [
       "0"
      ]
     },
     "execution_count": 19,
     "metadata": {},
     "output_type": "execute_result"
    }
   ],
   "source": [
    "df['JobCity'].isnull().sum()"
   ]
  },
  {
   "cell_type": "code",
   "execution_count": 20,
   "id": "2f421b71",
   "metadata": {},
   "outputs": [],
   "source": [
    "df['JobCity'] = df['JobCity'].str.lower()"
   ]
  },
  {
   "cell_type": "code",
   "execution_count": 21,
   "id": "f74fff1b",
   "metadata": {},
   "outputs": [],
   "source": [
    "df['JobCity'].fillna('unknown',inplace = True)"
   ]
  },
  {
   "cell_type": "code",
   "execution_count": 22,
   "id": "41e8150d",
   "metadata": {},
   "outputs": [
    {
     "data": {
      "text/plain": [
       "array(['bangalore', 'indore', 'chennai', 'gurgaon', 'manesar',\n",
       "       'hyderabad', 'banglore', 'noida', 'kolkata', 'pune', 'unknown',\n",
       "       'mohali', 'jhansi', 'delhi', 'hyderabad ', 'bangalore ',\n",
       "       'bhubaneswar', 'navi mumbai', 'mumbai', 'new delhi', 'mangalore',\n",
       "       'rewari', 'gaziabaad', 'bhiwadi', 'mysore', 'rajkot',\n",
       "       'greater noida', 'jaipur', 'noida ', 'thane', 'maharajganj',\n",
       "       'thiruvananthapuram', 'punchkula', 'bhubaneshwar', 'pune ',\n",
       "       'coimbatore', 'dhanbad', 'lucknow', 'trivandrum', 'gandhi nagar',\n",
       "       'una', 'daman and diu', 'gurgoan', 'vsakhapttnam', 'nagpur',\n",
       "       'bhagalpur', 'new delhi - jaisalmer', 'ahmedabad', 'kochi/cochin',\n",
       "       'bankura', 'bengaluru', 'mysore ', 'kanpur ', 'gurgaon ',\n",
       "       'vijayawada', 'kochi', 'beawar', 'alwar', 'siliguri ', 'raipur',\n",
       "       'bhopal', 'faridabad', 'jodhpur', 'udaipur', 'muzaffarpur',\n",
       "       'kolkata`', 'bulandshahar', 'haridwar', 'raigarh', 'visakhapatnam',\n",
       "       'jabalpur', 'unnao', 'aurangabad', 'belgaum', 'dehradun',\n",
       "       'rudrapur', 'jamshedpur', 'vizag', 'nouda', 'dharamshala',\n",
       "       'banagalore', 'hissar', 'ranchi', 'madurai', 'gurga', 'chandigarh',\n",
       "       'australia', ' chennai', 'cheyyar', 'mumbai ', 'sonepat',\n",
       "       'ghaziabad', 'pantnagar', 'siliguri', 'jagdalpur', 'chennai ',\n",
       "       'angul', 'baroda', ' ariyalur', 'jowai',\n",
       "       'kochi/cochin, chennai and coimbatore', 'neemrana', 'tirupathi',\n",
       "       'lucknow ', 'ahmedabad ', 'bhubneshwar', 'calicut', 'gandhinagar',\n",
       "       'dubai', 'ahmednagar', 'nashik', 'bellary', 'ludhiana',\n",
       "       'new delhi ', 'muzaffarnagar', 'gagret', 'indirapuram, ghaziabad',\n",
       "       'gwalior', 'chennai & mumbai', 'rajasthan', 'sonipat', 'bareli',\n",
       "       'kanpur', 'hospete', 'miryalaguda', ' mumbai', 'dharuhera',\n",
       "       'meerut', 'ganjam', 'hubli', 'ncr', 'agra', 'trichy',\n",
       "       'kudankulam ,tarapur', 'ongole', 'sambalpur', 'pondicherry',\n",
       "       'bundi', 'sadulpur,rajgarh,distt-churu,rajasthan', 'am', 'bikaner',\n",
       "       'vadodara', 'india', 'asansol', 'tirunelvelli', 'ernakulam',\n",
       "       'bilaspur', 'chandrapur', 'nanded', 'dharmapuri', 'vandavasi',\n",
       "       'rohtak', 'nagpur ', 'patna', 'salem', 'nasikcity', 'gandhinagar ',\n",
       "       'technopark, trivandrum', 'bharuch', 'tornagallu', 'kolkata ',\n",
       "       'jaspur', 'burdwan', 'bhubaneswar ', 'shimla', 'gajiabaad',\n",
       "       'jammu', 'shahdol', 'muvattupuzha', 'al jubail,saudi arabia',\n",
       "       'kalmar, sweden', 'secunderabad', 'a-64,sec-64,noida', 'ratnagiri',\n",
       "       'jhajjar', 'gulbarga', 'hyderabad(bhadurpally)', 'nalagarh',\n",
       "       'chandigarh ', 'jaipur ', 'jeddah saudi arabia', ' delhi',\n",
       "       'chennai, bangalore', 'bhopal ', 'jamnagar', 'tirupati', 'gonda',\n",
       "       'orissa', 'kharagpur', 'trivandrum ', 'navi mumbai , hyderabad',\n",
       "       'joshimath', 'bathinda', 'johannesburg', 'kala amb ', 'karnal',\n",
       "       'london', 'kota', 'panchkula', 'baddi hp', 'nagari',\n",
       "       'mettur, tamil nadu ', 'durgapur', 'pondi', 'surat', 'kurnool',\n",
       "       'kolhapur', 'madurai ', 'bhilai', ' pune', 'hderabad',\n",
       "       'bahadurgarh', 'rayagada, odisha', 'kakinada', 'varanasi', 'punr',\n",
       "       'nellore', 'sahibabad', 'howrah', 'trichur', 'ambala', 'khopoli',\n",
       "       'keral', 'roorkee', 'allahabad', 'delhi/ncr', 'panchkula ',\n",
       "       'ranchi ', 'jalandhar', 'vapi', 'pilani', 'muzzafarpur',\n",
       "       'ras al khaimah', 'bihar', 'singaruli', 'banglore ', 'pondy',\n",
       "       'phagwara', ' bangalore', 'guragaon', 'baripada', 'yamuna nagar',\n",
       "       'shahibabad', 'sampla', 'guwahati', 'rourkela', 'banaglore',\n",
       "       'vellore', 'dausa', 'latur (maharashtra )', 'mainpuri', 'dammam',\n",
       "       'haldia', 'rae bareli', 'patiala', 'gorakhpur', 'new dehli',\n",
       "       'ambala city', 'karad', 'rajpura', 'haryana', 'asifabadbanglore'],\n",
       "      dtype=object)"
      ]
     },
     "execution_count": 22,
     "metadata": {},
     "output_type": "execute_result"
    }
   ],
   "source": [
    "df['JobCity'].unique()"
   ]
  },
  {
   "cell_type": "code",
   "execution_count": 23,
   "id": "e6c1fa00",
   "metadata": {},
   "outputs": [
    {
     "name": "stdout",
     "output_type": "stream",
     "text": [
      "Requirement already satisfied: fuzzywuzzy in c:\\users\\seela\\anaconda3\\lib\\site-packages (0.18.0)\n",
      "Note: you may need to restart the kernel to use updated packages.\n"
     ]
    }
   ],
   "source": [
    "pip install fuzzywuzzy"
   ]
  },
  {
   "cell_type": "code",
   "execution_count": 24,
   "id": "868c2730",
   "metadata": {},
   "outputs": [
    {
     "name": "stderr",
     "output_type": "stream",
     "text": [
      "C:\\Users\\seela\\anaconda3\\Lib\\site-packages\\fuzzywuzzy\\fuzz.py:11: UserWarning: Using slow pure-python SequenceMatcher. Install python-Levenshtein to remove this warning\n",
      "  warnings.warn('Using slow pure-python SequenceMatcher. Install python-Levenshtein to remove this warning')\n"
     ]
    }
   ],
   "source": [
    "from fuzzywuzzy import process\n",
    "\n",
    "def correct_spelling_errors(target_word='',choices=[],threshold = 80):\n",
    "    match,score = process.extractOne(target_word,choices)\n",
    "    if score >= threshold:\n",
    "        return match\n",
    "    else:\n",
    "        return target_word"
   ]
  },
  {
   "cell_type": "code",
   "execution_count": 25,
   "id": "574767ee",
   "metadata": {},
   "outputs": [],
   "source": [
    "choices = ['bangalore', 'indore', 'chennai', 'gurgaon', 'manesar',\n",
    "       'hyderabad','noida', 'kolkata', 'pune','mohali',\n",
    "       'jhansi', 'delhi','bhubaneswar','mumbai','mangalore', 'rewari',\n",
    "       'gaziabaad', 'bhiwadi', 'mysore', 'rajkot',\n",
    "       'jaipur','thane', 'maharajganj', 'thiruvananthapuram',\n",
    "       'punchkula', 'bhubaneshwar','coimbatore', 'dhanbad',\n",
    "       'lucknow', 'trivandrum', 'gandhi nagar', 'una', 'daman and diu',\n",
    "       'nagpur', 'bhagalpur',\n",
    "       'ahmedabad', 'kochi', 'bankura',\n",
    "       'kanpur','vijayawada',\n",
    "       'beawar', 'alwar', 'siliguri ', 'raipur', 'bhopal',\n",
    "       'faridabad', 'jodhpur', 'udaipur', 'muzaffarpur',\n",
    "       'bulandshahar', 'haridwar', 'raigarh', 'visakhapatnam', 'jabalpur',\n",
    "       'unnao', 'aurangabad', 'belgaum', 'dehradun', 'rudrapur',\n",
    "       'jamshedpur','dharamshala',\n",
    "       'hissar', 'ranchi', 'madurai','chandigarh', 'australia',\n",
    "       'chennai', 'cheyyar', 'sonepat', 'ghaziabad',\n",
    "       'pantnagar', 'siliguri', 'jagdalpur',  'angul',\n",
    "       'baroda', ' ariyalur', 'jowai',\n",
    "       'neemrana', 'tirupathi',\n",
    "       'lucknow ',  'calicut',\n",
    "       'dubai', 'ahmednagar', 'nashik', 'bellary', 'ludhiana',\n",
    "       'muzaffarnagar', 'gagret',\n",
    "       'gwalior', 'rajasthan', 'sonipat', 'bareli',\n",
    "       'hospete', 'miryalaguda', 'dharuhera',\n",
    "       'meerut', 'ganjam', 'hubli', 'ncr', 'agra', 'trichy',\n",
    "       'kudankulam ,tarapur', 'ongole', 'sambalpur', 'pondicherry',\n",
    "       'bundi', 'rajasthan', 'am', 'bikaner',\n",
    "       'vadodara', 'india', 'asansol', 'tirunelvelli', 'ernakulam',\n",
    "       'bilaspur', 'chandrapur', 'nanded', 'dharmapuri', 'vandavasi',\n",
    "       'rohtak', 'nagpur', 'patna', 'salem', 'nasikcity', \n",
    "       'bharuch', 'tornagallu', \n",
    "       'jaspur', 'burdwan',  'shimla', \n",
    "       'jammu', 'shahdol', 'muvattupuzha', \n",
    "       'kalmar, sweden', 'secunderabad', 'ratnagiri',\n",
    "       'jhajjar', 'gulbarga', 'nalagarh',\n",
    "       'chandigarh', 'jaipur', 'saudi arabia', \n",
    "       'chennai, bangalore', 'bhopal ', 'jamnagar', 'tirupati', 'gonda',\n",
    "       'kharagpur',\n",
    "       'joshimath', 'bathinda', 'johannesburg', 'kala amb ', 'karnal',\n",
    "       'london', 'kota', 'baddi hp', 'nagari',\n",
    "       'mettur, tamil nadu ', 'durgapur', 'pondi', 'surat', 'kurnool',\n",
    "       'kolhapur', 'madurai ', 'bhilai', ' pune', \n",
    "       'bahadurgarh', 'odisha', 'kakinada', 'varanasi',\n",
    "       'nellore', 'sahibabad', 'howrah', 'trichur', 'ambala', 'khopoli',\n",
    "       'kerala', 'roorkee', 'allahabad', \n",
    "      'vapi', 'pilani', 'muzzafarpur',\n",
    "       'ras al khaimah', 'bihar', 'singaruli',  'pondy',\n",
    "       'phagwara',  'baripada', 'yamuna nagar',\n",
    "       'shahibabad', 'sampla', 'guwahati', 'rourkela', \n",
    "       'vellore', 'dausa', 'latur (maharashtra )', 'mainpuri', 'dammam',\n",
    "       'haldia', 'rae bareli', 'patiala', 'gorakhpur', \n",
    "       'ambala city', 'karad', 'rajpura', 'haryana']"
   ]
  },
  {
   "cell_type": "code",
   "execution_count": 26,
   "id": "7df79bd7",
   "metadata": {},
   "outputs": [],
   "source": [
    "df['JobCity'] = df['JobCity'].apply(lambda city: correct_spelling_errors(str(city),choices))"
   ]
  },
  {
   "cell_type": "code",
   "execution_count": 27,
   "id": "b44923fe",
   "metadata": {},
   "outputs": [
    {
     "data": {
      "text/plain": [
       "array(['bangalore', 'indore', 'chennai', 'gurgaon', 'manesar',\n",
       "       'hyderabad', 'noida', 'kolkata', 'pune', 'unknown', 'mohali',\n",
       "       'jhansi', 'delhi', 'bhubaneswar', 'mumbai', 'mangalore', 'rewari',\n",
       "       'gaziabaad', 'bhiwadi', 'mysore', 'rajkot', 'jaipur', 'thane',\n",
       "       'maharajganj', 'thiruvananthapuram', 'punchkula', 'bhubaneshwar',\n",
       "       'coimbatore', 'dhanbad', 'lucknow', 'trivandrum', 'gandhi nagar',\n",
       "       'una', 'daman and diu', 'am', 'nagpur', 'bhagalpur', 'ahmedabad',\n",
       "       'kochi', 'bankura', 'bengaluru', 'kanpur', 'vijayawada', 'beawar',\n",
       "       'alwar', 'siliguri ', 'raipur', 'bhopal', 'faridabad', 'jodhpur',\n",
       "       'udaipur', 'muzaffarpur', 'bulandshahar', 'haridwar', 'raigarh',\n",
       "       'visakhapatnam', 'jabalpur', 'unnao', 'aurangabad', 'belgaum',\n",
       "       'dehradun', 'rudrapur', 'jamshedpur', 'vizag', 'dharamshala',\n",
       "       'hissar', 'ranchi', 'madurai', 'chandigarh', 'australia',\n",
       "       'cheyyar', 'sonepat', 'ghaziabad', 'pantnagar', 'jagdalpur',\n",
       "       'angul', 'baroda', ' ariyalur', 'jowai', 'neemrana', 'tirupathi',\n",
       "       'calicut', 'dubai', 'ahmednagar', 'nashik', 'bellary', 'ludhiana',\n",
       "       'muzaffarnagar', 'gagret', 'gwalior', 'rajasthan', 'sonipat',\n",
       "       'bareli', 'hospete', 'miryalaguda', 'dharuhera', 'meerut',\n",
       "       'ganjam', 'hubli', 'ncr', 'agra', 'trichy', 'kudankulam ,tarapur',\n",
       "       'ongole', 'sambalpur', 'pondicherry', 'bundi', 'bikaner',\n",
       "       'vadodara', 'india', 'asansol', 'tirunelvelli', 'ernakulam',\n",
       "       'bilaspur', 'chandrapur', 'nanded', 'dharmapuri', 'vandavasi',\n",
       "       'rohtak', 'patna', 'salem', 'nasikcity', 'bharuch', 'tornagallu',\n",
       "       'jaspur', 'burdwan', 'shimla', 'jammu', 'shahdol', 'muvattupuzha',\n",
       "       'saudi arabia', 'kalmar, sweden', 'secunderabad', 'ratnagiri',\n",
       "       'jhajjar', 'gulbarga', 'nalagarh', 'chennai, bangalore',\n",
       "       'jamnagar', 'tirupati', 'gonda', 'orissa', 'kharagpur',\n",
       "       'joshimath', 'bathinda', 'johannesburg', 'kala amb ', 'karnal',\n",
       "       'london', 'kota', 'baddi hp', 'nagari', 'mettur, tamil nadu ',\n",
       "       'durgapur', 'pondi', 'surat', 'kurnool', 'kolhapur', 'bhilai',\n",
       "       'bahadurgarh', 'odisha', 'kakinada', 'varanasi', 'punr', 'nellore',\n",
       "       'sahibabad', 'howrah', 'trichur', 'ambala', 'khopoli', 'kerala',\n",
       "       'roorkee', 'allahabad', 'jalandhar', 'vapi', 'pilani',\n",
       "       'muzzafarpur', 'ras al khaimah', 'bihar', 'singaruli', 'pondy',\n",
       "       'phagwara', 'baripada', 'yamuna nagar', 'shahibabad', 'sampla',\n",
       "       'guwahati', 'rourkela', 'vellore', 'dausa', 'latur (maharashtra )',\n",
       "       'mainpuri', 'dammam', 'haldia', 'rae bareli', 'patiala',\n",
       "       'gorakhpur', 'new dehli', 'ambala city', 'karad', 'rajpura',\n",
       "       'haryana'], dtype=object)"
      ]
     },
     "execution_count": 27,
     "metadata": {},
     "output_type": "execute_result"
    }
   ],
   "source": [
    "df['JobCity'].unique() "
   ]
  },
  {
   "cell_type": "code",
   "execution_count": 28,
   "id": "f24bea82",
   "metadata": {},
   "outputs": [],
   "source": [
    "df['JobCity'] = df['JobCity'].str.replace('bhubaneswar','bhubaneshwar')\n",
    "df['JobCity'] = df['JobCity'].str.replace('bengaluru','bangalore')\n",
    "df['JobCity'] = df['JobCity'].str.replace('orissa','odisha')\n",
    "df['JobCity'] = df['JobCity'].str.replace('mangalore','bangalore')\n",
    "df['JobCity'] = df['JobCity'].str.replace('vizag','visakhapatnam')\n",
    "df['JobCity'] = df['JobCity'].str.replace('punr','pune')\n",
    "df['JobCity'] = df['JobCity'].str.replace('trivandrum','thiruvananthapuram')\n",
    "df['JobCity'] = df['JobCity'].str.replace('secunderabad','hyderabad')\n",
    "df['JobCity'] = df['JobCity'].str.replace('new dehli','delhi')"
   ]
  },
  {
   "cell_type": "code",
   "execution_count": 29,
   "id": "88d86860",
   "metadata": {},
   "outputs": [
    {
     "data": {
      "text/plain": [
       "array(['bangalore', 'indore', 'chennai', 'gurgaon', 'manesar',\n",
       "       'hyderabad', 'noida', 'kolkata', 'pune', 'unknown', 'mohali',\n",
       "       'jhansi', 'delhi', 'bhubaneshwar', 'mumbai', 'rewari', 'gaziabaad',\n",
       "       'bhiwadi', 'mysore', 'rajkot', 'jaipur', 'thane', 'maharajganj',\n",
       "       'thiruvananthapuram', 'punchkula', 'coimbatore', 'dhanbad',\n",
       "       'lucknow', 'gandhi nagar', 'una', 'daman and diu', 'am', 'nagpur',\n",
       "       'bhagalpur', 'ahmedabad', 'kochi', 'bankura', 'kanpur',\n",
       "       'vijayawada', 'beawar', 'alwar', 'siliguri ', 'raipur', 'bhopal',\n",
       "       'faridabad', 'jodhpur', 'udaipur', 'muzaffarpur', 'bulandshahar',\n",
       "       'haridwar', 'raigarh', 'visakhapatnam', 'jabalpur', 'unnao',\n",
       "       'aurangabad', 'belgaum', 'dehradun', 'rudrapur', 'jamshedpur',\n",
       "       'dharamshala', 'hissar', 'ranchi', 'madurai', 'chandigarh',\n",
       "       'australia', 'cheyyar', 'sonepat', 'ghaziabad', 'pantnagar',\n",
       "       'jagdalpur', 'angul', 'baroda', ' ariyalur', 'jowai', 'neemrana',\n",
       "       'tirupathi', 'calicut', 'dubai', 'ahmednagar', 'nashik', 'bellary',\n",
       "       'ludhiana', 'muzaffarnagar', 'gagret', 'gwalior', 'rajasthan',\n",
       "       'sonipat', 'bareli', 'hospete', 'miryalaguda', 'dharuhera',\n",
       "       'meerut', 'ganjam', 'hubli', 'ncr', 'agra', 'trichy',\n",
       "       'kudankulam ,tarapur', 'ongole', 'sambalpur', 'pondicherry',\n",
       "       'bundi', 'bikaner', 'vadodara', 'india', 'asansol', 'tirunelvelli',\n",
       "       'ernakulam', 'bilaspur', 'chandrapur', 'nanded', 'dharmapuri',\n",
       "       'vandavasi', 'rohtak', 'patna', 'salem', 'nasikcity', 'bharuch',\n",
       "       'tornagallu', 'jaspur', 'burdwan', 'shimla', 'jammu', 'shahdol',\n",
       "       'muvattupuzha', 'saudi arabia', 'kalmar, sweden', 'ratnagiri',\n",
       "       'jhajjar', 'gulbarga', 'nalagarh', 'chennai, bangalore',\n",
       "       'jamnagar', 'tirupati', 'gonda', 'odisha', 'kharagpur',\n",
       "       'joshimath', 'bathinda', 'johannesburg', 'kala amb ', 'karnal',\n",
       "       'london', 'kota', 'baddi hp', 'nagari', 'mettur, tamil nadu ',\n",
       "       'durgapur', 'pondi', 'surat', 'kurnool', 'kolhapur', 'bhilai',\n",
       "       'bahadurgarh', 'kakinada', 'varanasi', 'nellore', 'sahibabad',\n",
       "       'howrah', 'trichur', 'ambala', 'khopoli', 'kerala', 'roorkee',\n",
       "       'allahabad', 'jalandhar', 'vapi', 'pilani', 'muzzafarpur',\n",
       "       'ras al khaimah', 'bihar', 'singaruli', 'pondy', 'phagwara',\n",
       "       'baripada', 'yamuna nagar', 'shahibabad', 'sampla', 'guwahati',\n",
       "       'rourkela', 'vellore', 'dausa', 'latur (maharashtra )', 'mainpuri',\n",
       "       'dammam', 'haldia', 'rae bareli', 'patiala', 'gorakhpur',\n",
       "       'ambala city', 'karad', 'rajpura', 'haryana'], dtype=object)"
      ]
     },
     "execution_count": 29,
     "metadata": {},
     "output_type": "execute_result"
    }
   ],
   "source": [
    "df['JobCity'].unique()"
   ]
  },
  {
   "cell_type": "markdown",
   "id": "9849a0eb",
   "metadata": {},
   "source": [
    "**Designation**"
   ]
  },
  {
   "cell_type": "code",
   "execution_count": 30,
   "id": "e296341e",
   "metadata": {
    "scrolled": false
   },
   "outputs": [
    {
     "data": {
      "text/plain": [
       "array(['senior quality engineer', 'assistant manager', 'systems engineer',\n",
       "       'senior software engineer', 'get', 'system engineer',\n",
       "       'java software engineer', 'mechanical engineer',\n",
       "       'electrical engineer', 'project engineer', 'senior php developer',\n",
       "       'senior systems engineer', 'quality assurance engineer',\n",
       "       'qa analyst', 'network engineer', 'product development engineer',\n",
       "       'associate software developer', 'data entry operator',\n",
       "       'software engineer', 'developer', 'electrical project engineer',\n",
       "       'programmer analyst', 'systems analyst', 'ase',\n",
       "       'telecommunication engineer', 'application developer',\n",
       "       'ios developer', 'executive assistant', 'online marketing manager',\n",
       "       'documentation specialist', 'associate software engineer',\n",
       "       'management trainee', 'site manager', 'software developer',\n",
       "       '.net developer', 'production engineer', 'jr. software engineer',\n",
       "       'trainee software developer', 'ui developer',\n",
       "       'assistant system engineer', 'android developer',\n",
       "       'customer service', 'test engineer', 'java developer', 'engineer',\n",
       "       'recruitment coordinator', 'technical support engineer',\n",
       "       'data analyst', 'assistant software engineer', 'faculty',\n",
       "       'entry level management trainee',\n",
       "       'customer service representative', 'software test engineer',\n",
       "       'firmware engineer', 'php developer', 'research associate',\n",
       "       'research analyst', 'quality engineer', 'programmer',\n",
       "       'technical support executive', 'business analyst', 'web developer',\n",
       "       'application engineer', 'project coordinator', 'engineer trainee',\n",
       "       'sap consultant', 'quality analyst', 'marketing coordinator',\n",
       "       'system administrator', 'senior engineer',\n",
       "       'business development managerde', 'network administrator',\n",
       "       'technical support specialist', 'business development executive',\n",
       "       'junior software engineer', 'asp.net developer',\n",
       "       'graduate engineer trainee', 'field engineer',\n",
       "       'assistant professor', 'trainee software engineer',\n",
       "       'senior software developer',\n",
       "       'quality assurance automation engineer', 'design engineer',\n",
       "       'telecom engineer', 'quality control engineer',\n",
       "       'hardware engineer', 'hr recruiter', 'sales associate',\n",
       "       'junior engineer', 'associate engineer', 'maintenance engineer',\n",
       "       'sales engineer', 'human resources associate',\n",
       "       'mobile application developer',\n",
       "       'electronic field service engineer', 'process associate',\n",
       "       'field service engineer', 'it support specialist',\n",
       "       'software development engineer', 'business process analyst',\n",
       "       'operation engineer', 'electrical designer', 'marketing assistant',\n",
       "       'sales executive', 'admin assistant', 'senior java developer',\n",
       "       'account executive', 'oracle dba', 'rf engineer',\n",
       "       'embedded software engineer', 'programmer analyst trainee',\n",
       "       'technical engineer', 'operations executive', 'trainee engineer',\n",
       "       'recruiter', 'lecturer', '.net web developer',\n",
       "       'marketing executive', 'operations assistant', 'associate manager',\n",
       "       'electrical design engineer', 'systems administrator',\n",
       "       'client services associate', 'it analyst', 'senior developer',\n",
       "       'cad designer', 'business technology analyst', 'asst. manager',\n",
       "       'service engineer', 'executive recruiter', 'planning engineer',\n",
       "       'associate technical operations', 'web designer',\n",
       "       'software architect', 'software quality assurance tester',\n",
       "       'seo trainee', 'process engineer',\n",
       "       'software quality assurance analyst', 'designer',\n",
       "       'business systems consultant', 'business development manager',\n",
       "       'junior research fellow', 'technical recruiter',\n",
       "       'operations analyst', 'quality assurance test engineer',\n",
       "       'linux systems administrator', 'software trainee',\n",
       "       'entry level sales and marketing', 'electrical field engineer',\n",
       "       'windows systems administrator', 'junior software developer',\n",
       "       'python developer', 'web application developer',\n",
       "       'assistant systems engineer', 'javascript developer',\n",
       "       'operation executive', 'performance engineer', 'technical writer',\n",
       "       'operations engineer and jetty handling', 'lead engineer',\n",
       "       'portfolio analyst', 'associate system engineer',\n",
       "       'mechanical design engineer', 'product engineer',\n",
       "       'network security engineer', 'operations manager',\n",
       "       'technical lead', 'operations', 'quality assurance tester',\n",
       "       'automation engineer', 'data scientist', 'quality associate',\n",
       "       'manual tester', 'sr. engineer', 'embedded engineer',\n",
       "       'service and sales engineer', 'telecom support engineer',\n",
       "       'engineer- customer support', 'cloud engineer', 'branch manager',\n",
       "       'business analyst consultant', 'technology lead',\n",
       "       'software trainee engineer', 'dcs engineer', 'junior manager',\n",
       "       'ux designer', 'clerical', 'hr generalist',\n",
       "       'database administrator', 'senior design engineer', 'seo',\n",
       "       'assistant engineer', 'marketing analyst', 'it executive',\n",
       "       'salesforce developer', 'software tester', 'sql dba',\n",
       "       'junior engineer product support', 'manager',\n",
       "       'senior business analyst', 'c# developer',\n",
       "       'implementation engineer', 'executive hr', 'executive engineer',\n",
       "       'sharepoint developer', 'system analyst',\n",
       "       'sales management trainee', 'senior project engineer',\n",
       "       'it recruiter', 'software engineer analyst',\n",
       "       'desktop support technician', 'continuous improvement engineer',\n",
       "       'process advisor', 'etl developer', 'sales and service engineer',\n",
       "       'project manager', 'training specialist', 'product manager',\n",
       "       'staffing recruiter', 'assistant programmer', 'quality controller',\n",
       "       'mis executive', 'game developer', 'digital marketing specialist',\n",
       "       'principal software engineer', 'software devloper',\n",
       "       'senior mechanical engineer', 'technical operations analyst',\n",
       "       'service coordinator', 'testing engineer', 'technical assistant',\n",
       "       'sap abap consultant', 'seo engineer', 'project assistant',\n",
       "       'talent acquisition specialist', 'sales account manager',\n",
       "       'software engineer trainee', 'customer service manager',\n",
       "       'help desk analyst', 'general manager', 'engineering manager',\n",
       "       'senior network engineer',\n",
       "       'field based employee relations manager', 'phone banking officer',\n",
       "       'support engineer', 'associate test engineer',\n",
       "       'technology analyst', 'network support engineer',\n",
       "       'it business analyst', 'junior system analyst',\n",
       "       'senior .net developer', 'secretary', 'research engineer',\n",
       "       'quality assurance auditor', 'process executive',\n",
       "       'lecturer & electrical maintenance', 'office coordinator',\n",
       "       'hr manager', 'html developer', 'sales support',\n",
       "       'front end web developer', 'administrative support',\n",
       "       'territory sales manager', 'project administrator',\n",
       "       'environmental engineer', 'web designer and seo',\n",
       "       'information security analyst',\n",
       "       'field business development associate', 'operational executive',\n",
       "       'administrative coordinator', 'senior risk consultant',\n",
       "       'desktop support engineer', 'cad drafter', 'noc engineer',\n",
       "       'industrial engineer', 'it engineer', 'human resources intern',\n",
       "       'senior quality assurance engineer', 'clerical assistant',\n",
       "       'software enginner', 'quality assurance',\n",
       "       'delivery software engineer', 'graphic designer',\n",
       "       'sales development manager', 'visiting faculty',\n",
       "       'business intelligence analyst', 'team lead',\n",
       "       'operational excellence manager', 'sales & service engineer',\n",
       "       'web intern', 'full stack developer', 'database developer',\n",
       "       'sr. database engineer', 'graduate apprentice trainee',\n",
       "       'software engineer associate', 'technical analyst',\n",
       "       'executive engg', 'it technician', 'business system analyst',\n",
       "       'process control engineer', 'technical consultant',\n",
       "       'business office manager', 'quality control inspector',\n",
       "       'product design engineer', 'manufacturing engineer',\n",
       "       'seo executive', 'sap analyst', 'software engineere',\n",
       "       'financial service consultant', 'co faculty', 'software analyst',\n",
       "       'desktop support analyst', 'graduate engineer',\n",
       "       'engineering technician', 'it assistant', 'marketing manager',\n",
       "       'human resource assistant', 'hr assistant', 'product developer',\n",
       "       'customer support engineer',\n",
       "       'quality control inspection technician', 'gis/cad engineer',\n",
       "       'senior web developer', 'sql developer', 'research staff member',\n",
       "       'sap abap associate consultant', 'associate qa',\n",
       "       'corporate recruiter', 'project management officer',\n",
       "       'business systems analyst', 'software programmer',\n",
       "       'help desk technician', 'sales manager', 'catalog associate',\n",
       "       'assistant store manager', 'software engg', 'it developer',\n",
       "       'apprentice', 'business consultant', 'controls engineer',\n",
       "       'ruby on rails developer', 'risk consultant', 'account manager',\n",
       "       'professor', 'assistant administrator', 'civil engineer',\n",
       "       'educator', 'service manager', 'teradata dba',\n",
       "       'full-time loss prevention associate', 'junior recruiter',\n",
       "       'associate developer', 'assistant electrical engineer',\n",
       "       'shift engineer', 'dotnet developer', 'rf/dt engineer',\n",
       "       'human resources analyst', 'software test engineerte',\n",
       "       'junior .net developer', 'java trainee', 'maintenance supervisor',\n",
       "       'r&d engineer', 'front end developer', 'engineer-hws',\n",
       "       'operations engineer', 'senior research fellow',\n",
       "       'web designer and joomla administrator',\n",
       "       'enterprise solutions developer',\n",
       "       'information technology specialist', 'site engineer',\n",
       "       'graduate trainee engineer', 'quality assurance analyst',\n",
       "       'cnc programmer', 'financial analyst', 'system engineer trainee',\n",
       "       'sap mm consultant', 'assistant system engineer trainee',\n",
       "       'qa trainee', 'teradata developer', 'hr executive',\n",
       "       'senior programmer', 'software test engineer (etl)',\n",
       "       'associate software engg', 'supply chain analyst', 'sales trainer',\n",
       "       'software executive', 'team leader',\n",
       "       'assistant system engineer - trainee', 'seo analyst',\n",
       "       'risk investigator', 'executive administrative assistant',\n",
       "       'program manager', 'r & d', 'sap functional consultant',\n",
       "       'website developer/tester', 'software designer',\n",
       "       'sales coordinator', 'qa engineer', 'aircraft technician',\n",
       "       'customer care executive', 'senior test engineer',\n",
       "       'program analyst trainee', 'electrical controls engineer',\n",
       "       'trainee decision scientist', 'editor', 'bss engineer', 'dba',\n",
       "       'software eng', 'computer faculty', 'recruitment associate',\n",
       "       'logistics executive', 'quality consultant',\n",
       "       'senior sales executive', 'db2 dba', 'test technician',\n",
       "       'it operations associate', 'software engineering associate',\n",
       "       'research scientist', 'jr. software developer'], dtype=object)"
      ]
     },
     "execution_count": 30,
     "metadata": {},
     "output_type": "execute_result"
    }
   ],
   "source": [
    "df['Designation'].unique()"
   ]
  },
  {
   "cell_type": "code",
   "execution_count": 31,
   "id": "b9e17273",
   "metadata": {},
   "outputs": [],
   "source": [
    "df['Designation'] = df['Designation'].replace('get',' graduate engineer trainee')\n",
    "df['Designation'] = df['Designation'].replace('ase','associate software engineer')\n",
    "df['Designation'] = df['Designation'].replace('asst. manager','assistant manager')\n",
    "df['Designation'] = df['Designation'].replace('software engineering associate','associate software engineer')\n",
    "df['Designation'] = df['Designation'].replace('associate software engg','associate software engineer')"
   ]
  },
  {
   "cell_type": "markdown",
   "id": "9070a0ad",
   "metadata": {},
   "source": [
    "**10 Board**"
   ]
  },
  {
   "cell_type": "code",
   "execution_count": 32,
   "id": "b540c867",
   "metadata": {
    "scrolled": false
   },
   "outputs": [
    {
     "data": {
      "text/plain": [
       "array(['board ofsecondary education,ap', 'cbse', 'state board',\n",
       "       'mp board bhopal', 'icse',\n",
       "       'karnataka secondary school of examination', 'up',\n",
       "       'karnataka state education examination board', 'ssc',\n",
       "       'kerala state technical education', 0, 'bseb',\n",
       "       'state board of secondary education, andhra pradesh',\n",
       "       'matriculation', 'gujarat state board', 'karnataka state board',\n",
       "       'wbbse', 'maharashtra state board', 'icse board', 'up board',\n",
       "       'board of secondary education(bse) orissa',\n",
       "       'little jacky matric higher secondary school',\n",
       "       'uttar pradesh board', 'bsc,orissa', 'mp board', 'upboard',\n",
       "       'matriculation board', 'j & k bord', 'rbse',\n",
       "       'central board of secondary education', 'pseb', 'jkbose',\n",
       "       'haryana board of school education,(hbse)', 'metric', 'ms board',\n",
       "       'kseeb', 'stateboard', 'maticulation',\n",
       "       'karnataka secondory education board', 'mumbai board', 'sslc',\n",
       "       'kseb', 'board secondary  education', 'matric board',\n",
       "       'board of secondary education',\n",
       "       'west bengal board of secondary education',\n",
       "       'jharkhand secondary examination board,ranchi', 'u p board',\n",
       "       'bseb,patna', 'hsc', 'bse', 'sss pune',\n",
       "       'karnataka education board (keeb)', 'kerala',\n",
       "       'state board of secondary education( ssc)', 'gsheb',\n",
       "       'up(allahabad)', 'nagpur', 'don bosco maatriculation school',\n",
       "       'karnataka state secondary education board', 'maharashtra',\n",
       "       'karnataka secondary education board',\n",
       "       'himachal pradesh board of school education',\n",
       "       'certificate of middle years program of ib',\n",
       "       'karnataka board of secondary education',\n",
       "       'board of secondary education rajasthan', 'uttarakhand board',\n",
       "       'ua', 'board of secendary education orissa',\n",
       "       'karantaka secondary education and examination borad', 'hbsc',\n",
       "       'kseeb(karnataka secondary education examination board)',\n",
       "       'cbse[gulf zone]', 'hbse', 'state(karnataka board)',\n",
       "       'jharkhand accademic council',\n",
       "       'jharkhand secondary examination board (ranchi)',\n",
       "       'karnataka secondary education examination board', 'delhi board',\n",
       "       'mirza ahmed ali baig', 'jseb', 'bse, odisha', 'bihar board',\n",
       "       'maharashtra state(latur board)', 'rajasthan board', 'mpboard',\n",
       "       'upbhsie', 'secondary board of rajasthan',\n",
       "       'tamilnadu matriculation board', 'jharkhand secondary board',\n",
       "       'board of secondary education,andhara pradesh', 'up baord',\n",
       "       'state', 'board of intermediate education',\n",
       "       'state board of secondary education,andhra pradesh',\n",
       "       'up board , allahabad',\n",
       "       'stjosephs girls higher sec school,dindigul', 'maharashtra board',\n",
       "       'education board of kerala', 'board of ssc',\n",
       "       'maharashtra state board pune',\n",
       "       'board of school education harayana',\n",
       "       'secondary school cerfificate', 'maharashtra sate board', 'ksseb',\n",
       "       'bihar examination board, patna', 'latur',\n",
       "       'board of secondary education, rajasthan', 'state borad hp',\n",
       "       'cluny', 'bsepatna', 'up borad', 'ssc board of andrapradesh',\n",
       "       'matric', 'bse,orissa', 'ssc-andhra pradesh', 'mp',\n",
       "       'karnataka education board', 'mhsbse',\n",
       "       'karnataka sslc board bangalore', 'karnataka', 'u p',\n",
       "       'secondary school of education', 'state board of karnataka',\n",
       "       'karnataka secondary board', 'andhra pradesh board ssc',\n",
       "       'stjoseph of cluny matrhrsecschool,neyveli,cuddalore district',\n",
       "       'hse,orissa', 'national public school', 'nagpur board',\n",
       "       'jharkhand academic council', 'bsemp',\n",
       "       'board of secondary education, andhra pradesh',\n",
       "       'board of secondary education orissa',\n",
       "       'board of secondary education,rajasthan(rbse)',\n",
       "       'board of secondary education,ap',\n",
       "       'board of secondary education,andhra pradesh',\n",
       "       'jawahar navodaya vidyalaya', 'aisse',\n",
       "       'karnataka board of higher education', 'bihar',\n",
       "       'kerala state board', 'cicse', 'tn state board',\n",
       "       'kolhapur divisional board, maharashtra',\n",
       "       'bharathi matriculation school', 'uttaranchal state board',\n",
       "       'wbbsce', 'mp state board', 'seba(assam)', 'anglo indian', 'gseb',\n",
       "       'uttar pradesh', 'ghseb', 'board of school education uttarakhand',\n",
       "       'msbshse,pune', 'tamilnadu state board', 'kerala university',\n",
       "       'uttaranchal shiksha avam pariksha parishad',\n",
       "       'bse(board of secondary education)',\n",
       "       'bright way college, (up board)',\n",
       "       'school secondary education, andhra pradesh',\n",
       "       'secondary state certificate',\n",
       "       'maharashtra state board of secondary and higher secondary education,pune',\n",
       "       'andhra pradesh state board', 'stmary higher secondary', 'cgbse',\n",
       "       'secondary school certificate', 'rajasthan board ajmer', 'mpbse',\n",
       "       'pune board', 'cbse ', 'board of secondary education,orissa',\n",
       "       'maharashtra state board,pune', 'up bord',\n",
       "       'kiran english medium high school', 'state board (jac, ranchi)',\n",
       "       'gujarat board', 'state board ', 'sarada high scchool',\n",
       "       'kalaimagal matriculation higher secondary school',\n",
       "       'karnataka board', 'maharastra board', 'sslc board',\n",
       "       'ssc maharashtra board', 'tamil nadu state', 'uttrakhand board',\n",
       "       'bihar secondary education board,patna',\n",
       "       'haryana board of school education',\n",
       "       'sri kannika parameswari highier secondary school, udumalpet',\n",
       "       'ksseb(karnataka state board)', 'nashik board',\n",
       "       'jharkhand secondary education board', 'himachal pradesh board',\n",
       "       'maharashtra satate board',\n",
       "       'maharashtra state board mumbai divisional board',\n",
       "       'dav public school,hehal',\n",
       "       'state board of secondary education, ap',\n",
       "       'rajasthan board of secondary education', 'hsce',\n",
       "       'karnataka secondary education',\n",
       "       'board of secondary education,odisha', 'maharashtra nasik board',\n",
       "       'west bengal board of secondary examination (wbbse)',\n",
       "       'holy cross matriculation hr sec school', 'cbsc', 'apssc',\n",
       "       'bseb patna', 'kolhapur', 'bseb, patna', 'up board allahabad',\n",
       "       'biharboard', 'nagpur board,nagpur', 'pune', 'gyan bharati school',\n",
       "       'rbse,ajmer', 'board of secondaray education',\n",
       "       'secondary school education', 'state bord', 'jbse,jharkhand',\n",
       "       'hse', 'madhya pradesh board', 'bihar school examination board',\n",
       "       'west bengal board of secondary eucation', 'state boardmp board ',\n",
       "       'icse board , new delhi',\n",
       "       'board of secondary education (bse) orissa',\n",
       "       'maharashtra state board for ssc',\n",
       "       'board of secondary school education', 'latur board',\n",
       "       \"stmary's convent inter college\", 'nagpur divisional board',\n",
       "       'ap state board', 'cgbse raipur', 'uttranchal board', 'ksbe',\n",
       "       'central board of secondary education, new delhi',\n",
       "       'bihar school examination board patna', 'cbse board',\n",
       "       'sslc,karnataka', 'mp-bse', 'up bourd', 'dav public school sec 14',\n",
       "       'board of school education haryana',\n",
       "       'council for indian school certificate examination',\n",
       "       'aurangabad board', 'j&k state board of school education',\n",
       "       'maharashtra state board of secondary and higher secondary education',\n",
       "       'maharashtra state boar of secondary and higher secondary education',\n",
       "       'ssc regular', 'karnataka state examination board', 'nasik',\n",
       "       'west bengal  board of secondary education', 'up board,allahabad',\n",
       "       'bseb ,patna',\n",
       "       'state board - west bengal board of secondary education : wbbse',\n",
       "       'maharashtra state board of secondary & higher secondary education',\n",
       "       'delhi public school', 'karnataka secondary eduction',\n",
       "       'secondary education board of rajasthan',\n",
       "       'maharashtra board, pune', 'rbse (state board)', 'apsche',\n",
       "       'board of  secondary education',\n",
       "       'board of high school and intermediate education uttarpradesh',\n",
       "       'kea', 'board of secondary education - andhra pradesh',\n",
       "       'ap state board for secondary education', 'seba',\n",
       "       'punjab school education board, mohali',\n",
       "       'jharkhand acedemic council', 'hse,board',\n",
       "       'board of ssc education andhra pradesh', 'up-board', 'bse,odisha'],\n",
       "      dtype=object)"
      ]
     },
     "execution_count": 32,
     "metadata": {},
     "output_type": "execute_result"
    }
   ],
   "source": [
    "df['10board'].unique()"
   ]
  },
  {
   "cell_type": "code",
   "execution_count": 33,
   "id": "28aab6e9",
   "metadata": {},
   "outputs": [],
   "source": [
    "def board(x):\n",
    "    if (x == 'cbse')or x == 'central board of secondary education' or x == 'cbse[gulf zone]' or x =='jawahar navodaya vidyalaya':\n",
    "        return 'cbse'\n",
    "    elif x == 'icse' or x== 'icse board' or x == 'icse board , new delhi':\n",
    "        return 'icse'\n",
    "    else:\n",
    "        return 'state'"
   ]
  },
  {
   "cell_type": "code",
   "execution_count": 34,
   "id": "d4b0b31f",
   "metadata": {},
   "outputs": [],
   "source": [
    "df['10board'] = df['10board'].apply(board)"
   ]
  },
  {
   "cell_type": "code",
   "execution_count": 35,
   "id": "58aa017d",
   "metadata": {},
   "outputs": [
    {
     "data": {
      "text/plain": [
       "array(['state', 'cbse', 'icse'], dtype=object)"
      ]
     },
     "execution_count": 35,
     "metadata": {},
     "output_type": "execute_result"
    }
   ],
   "source": [
    "df['10board'].unique()"
   ]
  },
  {
   "cell_type": "markdown",
   "id": "93368e60",
   "metadata": {},
   "source": [
    "**12 Board**"
   ]
  },
  {
   "cell_type": "code",
   "execution_count": 36,
   "id": "ac019c9a",
   "metadata": {
    "scrolled": false
   },
   "outputs": [
    {
     "data": {
      "text/plain": [
       "array(['board of intermediate education,ap', 'cbse', 'state board',\n",
       "       'mp board', 'isc', 'icse', 'karnataka pre university board', 'up',\n",
       "       'p u board, karnataka', 'dept of pre-university education', 'bie',\n",
       "       'kerala state hse board', 'up board', 0, 'bseb', 'chse', 'puc',\n",
       "       ' upboard',\n",
       "       'state  board of intermediate education, andhra pradesh',\n",
       "       'karnataka state board',\n",
       "       'west bengal state council of technical education', 'wbchse',\n",
       "       'maharashtra state board', 'ssc', 'isc board',\n",
       "       'sda matric higher secondary school', 'uttar pradesh board', 'ibe',\n",
       "       'chsc', 'board of intermediate', 'isce', 'upboard', 'sbtet',\n",
       "       'hisher seconadry examination(state board)', 'pre university',\n",
       "       'borad of intermediate', 'j & k board',\n",
       "       'intermediate board of andhra pardesh', 'rbse',\n",
       "       'central board of secondary education', 'jkbose', 'hbse',\n",
       "       'board of intermediate education', 'state', 'ms board', 'pue',\n",
       "       'intermediate state board', 'stateboard', 'hsc',\n",
       "       'electonincs and communication(dote)', 'karnataka pu board',\n",
       "       'government polytechnic mumbai , mumbai board', 'pu board',\n",
       "       'baord of intermediate education', 'apbie', 'andhra board',\n",
       "       'tamilnadu stateboard',\n",
       "       'west bengal council of higher secondary education',\n",
       "       'cbse,new delhi', 'u p board', 'intermediate', 'biec,patna',\n",
       "       'diploma in engg (e &tc) tilak maharashtra vidayapeeth',\n",
       "       'hsc pune', 'pu board karnataka', 'kerala', 'gsheb',\n",
       "       'up(allahabad)', 'nagpur', 'st joseph hr sec school',\n",
       "       'pre university board', 'ipe', 'maharashtra', 'kea', 'apsb',\n",
       "       'himachal pradesh board of school education', 'staae board',\n",
       "       'international baccalaureate (ib) diploma', 'nios',\n",
       "       'karnataka board of university',\n",
       "       'board of secondary education rajasthan', 'uttarakhand board',\n",
       "       'ua', 'scte vt orissa', 'matriculation',\n",
       "       'department of pre-university education', 'wbscte',\n",
       "       'preuniversity board(karnataka)', 'jharkhand accademic council',\n",
       "       'bieap', 'msbte (diploma in computer technology)',\n",
       "       'jharkhand acamedic council (ranchi)',\n",
       "       'department of pre-university eduction', 'biec', 'all india board',\n",
       "       'sjrcw', ' board of intermediate', 'msbte',\n",
       "       'sri sankara vidyalaya', 'chse, odisha', 'bihar board',\n",
       "       'maharashtra state(latur board)', 'rajasthan board', 'mpboard',\n",
       "       'state board of technical eduction panchkula', 'upbhsie', 'apbsc',\n",
       "       'state board of technical education and training',\n",
       "       'secondary board of rajasthan',\n",
       "       'tamilnadu higher secondary education board',\n",
       "       'jharkhand academic council',\n",
       "       'board of intermediate education,hyderabad', 'up baord', 'pu',\n",
       "       'dte', 'board of secondary education', 'pre-university',\n",
       "       'board of intermediate education,andhra pradesh',\n",
       "       'up board , allahabad', 'srv girls higher sec school,rasipuram',\n",
       "       'intermediate board of education,andhra pradesh',\n",
       "       'intermediate board examination',\n",
       "       'department of pre-university education, bangalore',\n",
       "       'stmiras college for girls', 'mbose',\n",
       "       'department of pre-university education(government of karnataka)',\n",
       "       'dpue', 'msbte pune', 'board of school education harayana',\n",
       "       'sbte, jharkhand', 'bihar intermediate education council, patna',\n",
       "       'higher secondary', 's j polytechnic', 'latur',\n",
       "       'board of secondary education, rajasthan', 'jyoti nivas', 'pseb',\n",
       "       'biec-patna', 'board of intermediate education,andra pradesh',\n",
       "       'chse,orissa', 'pre-university board', 'mp', 'intermediate board',\n",
       "       'govt of karnataka department of pre-university education',\n",
       "       'karnataka education board',\n",
       "       'board of secondary school of education', 'pu board ,karnataka',\n",
       "       'karnataka secondary education board', 'karnataka sslc',\n",
       "       'board of intermediate ap', 'u p', 'state board of karnataka',\n",
       "       'directorate of technical education,banglore', 'matric board',\n",
       "       'andhpradesh board of intermediate education',\n",
       "       'stjoseph of cluny matrhrsecschool,neyveli,cuddalore district',\n",
       "       'bte up', 'scte and vt ,orissa', 'hbsc',\n",
       "       'jawahar higher secondary school', 'nagpur board', 'bsemp',\n",
       "       'board of intermediate education, andhra pradesh',\n",
       "       'board of higher secondary orissa',\n",
       "       'board of secondary education,rajasthan(rbse)',\n",
       "       'board of intermediate education:ap,hyderabad', 'science college',\n",
       "       'karnatak pu board', 'aissce', 'pre university board of karnataka',\n",
       "       'bihar', 'kerala state board', 'uo board', 'cicse',\n",
       "       'karnataka board', 'tn state board',\n",
       "       'kolhapur divisional board, maharashtra',\n",
       "       'jaycee matriculation school',\n",
       "       'board of higher secondary examination, kerala',\n",
       "       'uttaranchal state board', 'intermidiate', 'bciec,patna', 'bice',\n",
       "       'karnataka state', 'state broad', 'wbbhse', 'gseb',\n",
       "       'uttar pradesh', 'ghseb', 'board of school education uttarakhand',\n",
       "       'gseb/technical education board', 'msbshse,pune',\n",
       "       'tamilnadu state board', 'board of technical education',\n",
       "       'kerala university', 'uttaranchal shiksha avam pariksha parishad',\n",
       "       'chse(concil of higher secondary education)',\n",
       "       'bright way college, (up board)', 'board of intermidiate',\n",
       "       'higher secondary state certificate', 'karanataka secondary board',\n",
       "       'maharashtra board', 'andhra pradesh state board', 'cgbse',\n",
       "       'diploma in computers', 'bte,delhi', 'rajasthan board ajmer',\n",
       "       'mpbse', 'pune board', 'state board of technical education',\n",
       "       'gshseb', 'amravati divisional board',\n",
       "       'dote (diploma - computer engg)', 'up bord',\n",
       "       'karnataka pre-university board', 'jharkhand board',\n",
       "       'punjab state board of technical education & industrial training',\n",
       "       'department of technical education',\n",
       "       'sri chaitanya junior kalasala', 'state board (jac, ranchi)',\n",
       "       'gujarat board', 'aligarh muslim university',\n",
       "       'tamil nadu state board', 'hse', 'karnataka secondary education',\n",
       "       'state board ', 'karnataka pre unversity board',\n",
       "       'ks rangasamy institute of technology',\n",
       "       'karnataka board secondary education', 'narayana junior college',\n",
       "       'bteup', 'board of intermediate(bie)', 'hsc maharashtra board',\n",
       "       'tamil nadu state', 'uttrakhand board', 'psbte',\n",
       "       'stateboard/tamil nadu', 'intermediate council patna',\n",
       "       'technical board, punchkula', 'board of intermidiate examination',\n",
       "       'sri kannika parameswari highier secondary school, udumalpet',\n",
       "       'ap board', 'nashik board', 'himachal pradesh board',\n",
       "       'maharashtra satate board',\n",
       "       'andhra pradesh board of secondary education',\n",
       "       'tamil nadu polytechnic',\n",
       "       'maharashtra state board mumbai divisional board',\n",
       "       'department of pre university education',\n",
       "       'dav public school,hehal', 'board of intermediate education, ap',\n",
       "       'rajasthan board of secondary education',\n",
       "       'department of technical education, bangalore', 'chse,odisha',\n",
       "       'maharashtra nasik board',\n",
       "       'west bengal council of higher secondary examination (wbchse)',\n",
       "       'holy cross matriculation hr sec school', 'cbsc',\n",
       "       'pu  board karnataka', 'biec patna', 'kolhapur', 'bseb, patna',\n",
       "       'up board allahabad', 'intermideate', 'nagpur board,nagpur',\n",
       "       'diploma(msbte)', 'dav public school',\n",
       "       'pre university board, karnataka', 'ssm srsecschool', 'state bord',\n",
       "       'jstb,jharkhand', 'intermediate board of education',\n",
       "       'mp board bhopal', 'pub', 'madhya pradesh board',\n",
       "       'bihar intermediate education council',\n",
       "       'west bengal council of higher secondary eucation',\n",
       "       'isc board , new delhi', 'mpc',\n",
       "       'certificate for higher secondary education (chse)orissa',\n",
       "       'maharashtra state board for hsc',\n",
       "       'board of intermeadiate education', 'latur board',\n",
       "       'andhra pradesh', 'karnataka pre-university',\n",
       "       'lucknow public college', 'nagpur divisional board',\n",
       "       'ap intermediate board', 'cgbse raipur', 'uttranchal board',\n",
       "       'jiec', 'central board of secondary education, new delhi',\n",
       "       'bihar school examination board patna',\n",
       "       'state board of technical education harayana', 'mp-bse',\n",
       "       'up bourd', 'dav public school sec 14',\n",
       "       'haryana state board of technical education chandigarh',\n",
       "       'council for indian school certificate examination',\n",
       "       'jaswant modern school', 'madhya pradesh open school',\n",
       "       'aurangabad board', 'j&k state board of school education',\n",
       "       'diploma ( maharashtra state board of technical education)',\n",
       "       'board of technicaleducation ,delhi',\n",
       "       'maharashtra state boar of secondary and higher secondary education',\n",
       "       'hslc (tamil nadu state board)',\n",
       "       'karnataka state examination board', 'puboard', 'nasik',\n",
       "       'west bengal board of higher secondary education',\n",
       "       'up board,allahabad', 'board of intrmediate education,ap', 'cbese',\n",
       "       'karnataka state pre- university board',\n",
       "       'state board - west bengal council of higher secondary education : wbchse',\n",
       "       'maharashtra state board of secondary & higher secondary education',\n",
       "       'biec, patna', 'state syllabus', 'cbse board', 'scte&vt',\n",
       "       'board of intermediate,ap',\n",
       "       'secnior secondary education board of rajasthan',\n",
       "       'maharashtra board, pune', 'rbse (state board)',\n",
       "       'board of intermidiate education,ap',\n",
       "       'board of high school and intermediate education uttarpradesh',\n",
       "       'higher secondary education',\n",
       "       'board fo intermediate education, ap', 'intermedite',\n",
       "       'ap board for intermediate education', 'ahsec',\n",
       "       'punjab state board of technical education & industrial training, chandigarh',\n",
       "       'state board - tamilnadu', 'jharkhand acedemic council',\n",
       "       'scte & vt (diploma)', 'karnataka pu',\n",
       "       'board of intmediate education ap', 'up-board',\n",
       "       'boardofintermediate'], dtype=object)"
      ]
     },
     "execution_count": 36,
     "metadata": {},
     "output_type": "execute_result"
    }
   ],
   "source": [
    "df['12board'].unique()"
   ]
  },
  {
   "cell_type": "code",
   "execution_count": 37,
   "id": "6a1a580b",
   "metadata": {},
   "outputs": [],
   "source": [
    "def board(x):\n",
    "    if (x == 'cbse')or x == 'all india board' or x == 'central board of secondary education, new delhi' or x =='cbese':\n",
    "        return 'cbse'\n",
    "    elif x == 'icse' or x== 'isc' or x == 'isc board' or x == 'cicse':\n",
    "        return 'icse'\n",
    "    else:\n",
    "        return 'state'"
   ]
  },
  {
   "cell_type": "code",
   "execution_count": 38,
   "id": "453492a3",
   "metadata": {},
   "outputs": [],
   "source": [
    "df['12board'] = df['12board'].apply(board)"
   ]
  },
  {
   "cell_type": "code",
   "execution_count": 39,
   "id": "94b36ae6",
   "metadata": {},
   "outputs": [
    {
     "data": {
      "text/plain": [
       "array(['state', 'cbse', 'icse'], dtype=object)"
      ]
     },
     "execution_count": 39,
     "metadata": {},
     "output_type": "execute_result"
    }
   ],
   "source": [
    "df['12board'].unique()"
   ]
  },
  {
   "cell_type": "markdown",
   "id": "ba51a979",
   "metadata": {},
   "source": [
    "**Specialization**"
   ]
  },
  {
   "cell_type": "code",
   "execution_count": 40,
   "id": "9a142596",
   "metadata": {},
   "outputs": [
    {
     "data": {
      "text/plain": [
       "array(['computer engineering',\n",
       "       'electronics and communication engineering',\n",
       "       'information technology', 'computer science & engineering',\n",
       "       'mechanical engineering', 'electronics and electrical engineering',\n",
       "       'electronics & telecommunications',\n",
       "       'instrumentation and control engineering', 'computer application',\n",
       "       'electronics and computer engineering', 'electrical engineering',\n",
       "       'applied electronics and instrumentation',\n",
       "       'electronics & instrumentation eng',\n",
       "       'information science engineering', 'civil engineering',\n",
       "       'mechanical and automation', 'industrial & production engineering',\n",
       "       'control and instrumentation engineering',\n",
       "       'metallurgical engineering',\n",
       "       'electronics and instrumentation engineering',\n",
       "       'electronics engineering', 'ceramic engineering',\n",
       "       'chemical engineering', 'aeronautical engineering', 'other',\n",
       "       'biotechnology', 'embedded systems technology',\n",
       "       'electrical and power engineering',\n",
       "       'computer science and technology', 'mechatronics',\n",
       "       'automobile/automotive engineering', 'polymer technology',\n",
       "       'mechanical & production engineering',\n",
       "       'power systems and automation', 'instrumentation engineering',\n",
       "       'telecommunication engineering',\n",
       "       'industrial & management engineering', 'industrial engineering',\n",
       "       'computer and communication engineering',\n",
       "       'information & communication technology', 'information science',\n",
       "       'internal combustion engine', 'computer networking',\n",
       "       'biomedical engineering', 'electronics', 'computer science'],\n",
       "      dtype=object)"
      ]
     },
     "execution_count": 40,
     "metadata": {},
     "output_type": "execute_result"
    }
   ],
   "source": [
    "df['Specialization'].unique()"
   ]
  },
  {
   "cell_type": "code",
   "execution_count": 41,
   "id": "19d60ea3",
   "metadata": {},
   "outputs": [],
   "source": [
    "def specialization(x):\n",
    "    if ('computer' in x) or ('technology' in x) or ('information science' in x):\n",
    "        return 'computer_science'\n",
    "    elif ('electronics' in x) or ('electrical' in x) or ('embedded' in x) or ('power system' in x):\n",
    "        return 'electronics'\n",
    "    elif 'civil' in x:\n",
    "        return 'civil'\n",
    "    elif ('mechanical' in x) or ('automation' in x) or ('mechatronics' in x) or ('aeronautical' in x) or ('combustion' in x):\n",
    "        return 'mechanical'\n",
    "    else:\n",
    "        return 'other'"
   ]
  },
  {
   "cell_type": "code",
   "execution_count": 42,
   "id": "c91bb703",
   "metadata": {},
   "outputs": [],
   "source": [
    "df['Specialization'] = df['Specialization'].apply(lambda x: specialization(str(x)))"
   ]
  },
  {
   "cell_type": "code",
   "execution_count": 43,
   "id": "2fe49a35",
   "metadata": {},
   "outputs": [
    {
     "data": {
      "text/plain": [
       "array(['computer_science', 'electronics', 'mechanical', 'other', 'civil'],\n",
       "      dtype=object)"
      ]
     },
     "execution_count": 43,
     "metadata": {},
     "output_type": "execute_result"
    }
   ],
   "source": [
    "df['Specialization'].unique()"
   ]
  },
  {
   "cell_type": "markdown",
   "id": "72d02be0",
   "metadata": {},
   "source": [
    "**Graduation Year**"
   ]
  },
  {
   "cell_type": "code",
   "execution_count": 44,
   "id": "7250da34",
   "metadata": {},
   "outputs": [
    {
     "data": {
      "text/plain": [
       "array([2011, 2012, 2014, 2016, 2013, 2010, 2015, 2009, 2017,    0, 2007],\n",
       "      dtype=int64)"
      ]
     },
     "execution_count": 44,
     "metadata": {},
     "output_type": "execute_result"
    }
   ],
   "source": [
    "df['GraduationYear'].unique()"
   ]
  },
  {
   "cell_type": "code",
   "execution_count": 45,
   "id": "1047cd5d",
   "metadata": {},
   "outputs": [],
   "source": [
    "df['GraduationYear'] = df['GraduationYear'].replace(0, np.nan)\n",
    "\n",
    "df['GraduationYear'].fillna(df['GraduationYear'].mode()[0], inplace = True)\n",
    "\n",
    "df['GraduationYear'] = df['GraduationYear'].astype('int64')"
   ]
  },
  {
   "cell_type": "code",
   "execution_count": 46,
   "id": "2753a735",
   "metadata": {},
   "outputs": [
    {
     "data": {
      "text/plain": [
       "array([2011, 2012, 2014, 2016, 2013, 2010, 2015, 2009, 2017, 2007],\n",
       "      dtype=int64)"
      ]
     },
     "execution_count": 46,
     "metadata": {},
     "output_type": "execute_result"
    }
   ],
   "source": [
    "df['GraduationYear'].unique()"
   ]
  },
  {
   "cell_type": "markdown",
   "id": "b726c5db",
   "metadata": {},
   "source": [
    "# UNIVARIATE ANALYSIS"
   ]
  },
  {
   "cell_type": "markdown",
   "id": "8c21af50",
   "metadata": {},
   "source": [
    "**NON VISUALIZATION ANALYSIS**"
   ]
  },
  {
   "cell_type": "code",
   "execution_count": 47,
   "id": "d33e3445",
   "metadata": {},
   "outputs": [],
   "source": [
    "discrete_df = df.select_dtypes(include=['object'])\n",
    "\n",
    "numerical_df = df.select_dtypes(include=['int64', 'float64'])"
   ]
  },
  {
   "cell_type": "code",
   "execution_count": 48,
   "id": "1f27e50e",
   "metadata": {},
   "outputs": [],
   "source": [
    "def discrete_univariate_analysis(discrete_data):\n",
    "    for col_name in discrete_data:\n",
    "        print(\"*\"*10, col_name, \"*\"*10)\n",
    "        print(discrete_data[col_name].agg(['count', 'nunique', 'unique']))\n",
    "        print('Value Counts: \\n', discrete_data[col_name].value_counts())\n",
    "        print()"
   ]
  },
  {
   "cell_type": "code",
   "execution_count": 49,
   "id": "e7458cab",
   "metadata": {
    "scrolled": false
   },
   "outputs": [
    {
     "name": "stdout",
     "output_type": "stream",
     "text": [
      "********** Designation **********\n",
      "count                                                   3998\n",
      "nunique                                                  415\n",
      "unique     [senior quality engineer, assistant manager, s...\n",
      "Name: Designation, dtype: object\n",
      "Value Counts: \n",
      " software engineer                    539\n",
      "software developer                   265\n",
      "system engineer                      205\n",
      "programmer analyst                   139\n",
      "systems engineer                     118\n",
      "                                    ... \n",
      "cad drafter                            1\n",
      "noc engineer                           1\n",
      "human resources intern                 1\n",
      "senior quality assurance engineer      1\n",
      "jr. software developer                 1\n",
      "Name: Designation, Length: 415, dtype: int64\n",
      "\n",
      "********** JobCity **********\n",
      "count                                                   3998\n",
      "nunique                                                  193\n",
      "unique     [bangalore, indore, chennai, gurgaon, manesar,...\n",
      "Name: JobCity, dtype: object\n",
      "Value Counts: \n",
      " bangalore    698\n",
      "unknown      461\n",
      "noida        420\n",
      "hyderabad    374\n",
      "pune         328\n",
      "            ... \n",
      "india          1\n",
      "bikaner        1\n",
      "bundi          1\n",
      "jhansi         1\n",
      "haryana        1\n",
      "Name: JobCity, Length: 193, dtype: int64\n",
      "\n",
      "********** Gender **********\n",
      "count        3998\n",
      "nunique         2\n",
      "unique     [f, m]\n",
      "Name: Gender, dtype: object\n",
      "Value Counts: \n",
      " m    3041\n",
      "f     957\n",
      "Name: Gender, dtype: int64\n",
      "\n",
      "********** 10board **********\n",
      "count                     3998\n",
      "nunique                      3\n",
      "unique     [state, cbse, icse]\n",
      "Name: 10board, dtype: object\n",
      "Value Counts: \n",
      " state    2305\n",
      "cbse     1410\n",
      "icse      283\n",
      "Name: 10board, dtype: int64\n",
      "\n",
      "********** 12board **********\n",
      "count                     3998\n",
      "nunique                      3\n",
      "unique     [state, cbse, icse]\n",
      "Name: 12board, dtype: object\n",
      "Value Counts: \n",
      " state    2419\n",
      "cbse     1403\n",
      "icse      176\n",
      "Name: 12board, dtype: int64\n",
      "\n",
      "********** Degree **********\n",
      "count                                                 3998\n",
      "nunique                                                  4\n",
      "unique     [B.Tech/B.E., MCA, M.Tech./M.E., M.Sc. (Tech.)]\n",
      "Name: Degree, dtype: object\n",
      "Value Counts: \n",
      " B.Tech/B.E.      3700\n",
      "MCA               243\n",
      "M.Tech./M.E.       53\n",
      "M.Sc. (Tech.)       2\n",
      "Name: Degree, dtype: int64\n",
      "\n",
      "********** Specialization **********\n",
      "count                                                   3998\n",
      "nunique                                                    5\n",
      "unique     [computer_science, electronics, mechanical, ot...\n",
      "Name: Specialization, dtype: object\n",
      "Value Counts: \n",
      " computer_science    2308\n",
      "electronics         1370\n",
      "mechanical           215\n",
      "other                 76\n",
      "civil                 29\n",
      "Name: Specialization, dtype: int64\n",
      "\n",
      "********** CollegeState **********\n",
      "count                                                   3998\n",
      "nunique                                                   26\n",
      "unique     [Andhra Pradesh, Madhya Pradesh, Uttar Pradesh...\n",
      "Name: CollegeState, dtype: object\n",
      "Value Counts: \n",
      " Uttar Pradesh        915\n",
      "Karnataka            370\n",
      "Tamil Nadu           367\n",
      "Telangana            319\n",
      "Maharashtra          262\n",
      "Andhra Pradesh       225\n",
      "West Bengal          196\n",
      "Punjab               193\n",
      "Madhya Pradesh       189\n",
      "Haryana              180\n",
      "Rajasthan            174\n",
      "Orissa               172\n",
      "Delhi                162\n",
      "Uttarakhand          113\n",
      "Kerala                33\n",
      "Jharkhand             28\n",
      "Chhattisgarh          27\n",
      "Gujarat               24\n",
      "Himachal Pradesh      16\n",
      "Bihar                 10\n",
      "Jammu and Kashmir      7\n",
      "Assam                  5\n",
      "Union Territory        5\n",
      "Sikkim                 3\n",
      "Meghalaya              2\n",
      "Goa                    1\n",
      "Name: CollegeState, dtype: int64\n",
      "\n"
     ]
    }
   ],
   "source": [
    "discrete_univariate_analysis(discrete_df)"
   ]
  },
  {
   "cell_type": "code",
   "execution_count": 50,
   "id": "9487ccef",
   "metadata": {},
   "outputs": [],
   "source": [
    "def numerical_univariate_analysis(numerical_data):\n",
    "    for col_name in numerical_data:\n",
    "        print(\"*\"*10, col_name, \"*\"*10)\n",
    "        print(numerical_data[col_name].agg(['min', 'max', 'mean', 'median', 'std']))\n",
    "        print()"
   ]
  },
  {
   "cell_type": "code",
   "execution_count": 51,
   "id": "bfc05303",
   "metadata": {
    "scrolled": false
   },
   "outputs": [
    {
     "name": "stdout",
     "output_type": "stream",
     "text": [
      "********** Salary **********\n",
      "min       3.500000e+04\n",
      "max       4.000000e+06\n",
      "mean      3.076998e+05\n",
      "median    3.000000e+05\n",
      "std       2.127375e+05\n",
      "Name: Salary, dtype: float64\n",
      "\n",
      "********** 10percentage **********\n",
      "min       43.000000\n",
      "max       97.760000\n",
      "mean      77.925443\n",
      "median    79.150000\n",
      "std        9.850162\n",
      "Name: 10percentage, dtype: float64\n",
      "\n",
      "********** 12graduation **********\n",
      "min       1995.000000\n",
      "max       2013.000000\n",
      "mean      2008.087544\n",
      "median    2008.000000\n",
      "std          1.653599\n",
      "Name: 12graduation, dtype: float64\n",
      "\n",
      "********** 12percentage **********\n",
      "min       40.000000\n",
      "max       98.700000\n",
      "mean      74.466366\n",
      "median    74.400000\n",
      "std       10.999933\n",
      "Name: 12percentage, dtype: float64\n",
      "\n",
      "********** CollegeID **********\n",
      "min           2.000000\n",
      "max       18409.000000\n",
      "mean       5156.851426\n",
      "median     3879.000000\n",
      "std        4802.261482\n",
      "Name: CollegeID, dtype: float64\n",
      "\n",
      "********** CollegeTier **********\n",
      "min       1.000000\n",
      "max       2.000000\n",
      "mean      1.925713\n",
      "median    2.000000\n",
      "std       0.262270\n",
      "Name: CollegeTier, dtype: float64\n",
      "\n",
      "********** collegeGPA **********\n",
      "min        6.450000\n",
      "max       99.930000\n",
      "mean      71.486171\n",
      "median    71.720000\n",
      "std        8.167338\n",
      "Name: collegeGPA, dtype: float64\n",
      "\n",
      "********** GraduationYear **********\n",
      "min       2007.000000\n",
      "max       2017.000000\n",
      "mean      2012.609305\n",
      "median    2013.000000\n",
      "std          1.315383\n",
      "Name: GraduationYear, dtype: float64\n",
      "\n",
      "********** English **********\n",
      "min       180.000000\n",
      "max       875.000000\n",
      "mean      501.649075\n",
      "median    500.000000\n",
      "std       104.940021\n",
      "Name: English, dtype: float64\n",
      "\n",
      "********** Logical **********\n",
      "min       195.000000\n",
      "max       795.000000\n",
      "mean      501.598799\n",
      "median    505.000000\n",
      "std        86.783297\n",
      "Name: Logical, dtype: float64\n",
      "\n",
      "********** Quant **********\n",
      "min       120.000000\n",
      "max       900.000000\n",
      "mean      513.378189\n",
      "median    515.000000\n",
      "std       122.302332\n",
      "Name: Quant, dtype: float64\n",
      "\n",
      "********** conscientiousness **********\n",
      "min      -4.126700\n",
      "max       1.995300\n",
      "mean     -0.037831\n",
      "median    0.046400\n",
      "std       1.028666\n",
      "Name: conscientiousness, dtype: float64\n",
      "\n",
      "********** agreeableness **********\n",
      "min      -5.781600\n",
      "max       1.904800\n",
      "mean      0.146496\n",
      "median    0.212400\n",
      "std       0.941782\n",
      "Name: agreeableness, dtype: float64\n",
      "\n",
      "********** extraversion **********\n",
      "min      -4.600900\n",
      "max       2.535400\n",
      "mean      0.002763\n",
      "median    0.091400\n",
      "std       0.951471\n",
      "Name: extraversion, dtype: float64\n",
      "\n",
      "********** nueroticism **********\n",
      "min      -2.643000\n",
      "max       3.352500\n",
      "mean     -0.169033\n",
      "median   -0.234400\n",
      "std       1.007580\n",
      "Name: nueroticism, dtype: float64\n",
      "\n",
      "********** openess_to_experience **********\n",
      "min      -7.375700\n",
      "max       1.822400\n",
      "mean     -0.138110\n",
      "median   -0.094300\n",
      "std       1.008075\n",
      "Name: openess_to_experience, dtype: float64\n",
      "\n"
     ]
    }
   ],
   "source": [
    "numerical_univariate_analysis(numerical_df)"
   ]
  },
  {
   "cell_type": "markdown",
   "id": "bc40e47b",
   "metadata": {},
   "source": [
    "**VISUALIZATION ANALYSIS**"
   ]
  },
  {
   "cell_type": "markdown",
   "id": "51fb7cb3",
   "metadata": {},
   "source": [
    "**Salary**"
   ]
  },
  {
   "cell_type": "code",
   "execution_count": 80,
   "id": "ef9837d0",
   "metadata": {},
   "outputs": [
    {
     "data": {
      "text/plain": [
       "Text(0.5, 0.98, 'Salary')"
      ]
     },
     "execution_count": 80,
     "metadata": {},
     "output_type": "execute_result"
    },
    {
     "data": {
      "image/png": "[encoded data removed]",
      "text/plain": [
       "<Figure size 500x400 with 1 Axes>"
      ]
     },
     "metadata": {},
     "output_type": "display_data"
    }
   ],
   "source": [
    "plt.figure(figsize=(5, 4))\n",
    "sns.boxplot(x = 'Salary',data = df)\n",
    "plt.suptitle('Salary')"
   ]
  },
  {
   "cell_type": "markdown",
   "id": "5ba0dec4",
   "metadata": {},
   "source": [
    "**Gender**"
   ]
  },
  {
   "cell_type": "code",
   "execution_count": 78,
   "id": "a2021468",
   "metadata": {},
   "outputs": [
    {
     "data": {
      "text/plain": [
       "<Axes: xlabel='Gender', ylabel='count'>"
      ]
     },
     "execution_count": 78,
     "metadata": {},
     "output_type": "execute_result"
    },
    {
     "data": {
      "image/png": "[encoded data removed]",
      "text/plain": [
       "<Figure size 500x400 with 1 Axes>"
      ]
     },
     "metadata": {},
     "output_type": "display_data"
    }
   ],
   "source": [
    "plt.figure(figsize=(5, 4))\n",
    "sns.countplot(x='Gender', data=df)"
   ]
  },
  {
   "cell_type": "markdown",
   "id": "5edb032f",
   "metadata": {},
   "source": [
    "**Observation:**\n",
    " We can observe that there are more number of males than females"
   ]
  },
  {
   "cell_type": "markdown",
   "id": "231d507b",
   "metadata": {},
   "source": [
    "**Designation**"
   ]
  },
  {
   "cell_type": "code",
   "execution_count": 75,
   "id": "a6853d2d",
   "metadata": {},
   "outputs": [
    {
     "data": {
      "text/plain": [
       "(array([0, 1, 2, 3, 4, 5, 6, 7, 8, 9]),\n",
       " [Text(0, 0, 'software engineer'),\n",
       "  Text(1, 0, 'software developer'),\n",
       "  Text(2, 0, 'system engineer'),\n",
       "  Text(3, 0, 'programmer analyst'),\n",
       "  Text(4, 0, 'systems engineer'),\n",
       "  Text(5, 0, 'java software engineer'),\n",
       "  Text(6, 0, 'software test engineer'),\n",
       "  Text(7, 0, 'project engineer'),\n",
       "  Text(8, 0, 'technical support engineer'),\n",
       "  Text(9, 0, 'senior software engineer')])"
      ]
     },
     "execution_count": 75,
     "metadata": {},
     "output_type": "execute_result"
    },
    {
     "data": {
      "image/png": "[encoded data removed]",
      "text/plain": [
       "<Figure size 1000x400 with 1 Axes>"
      ]
     },
     "metadata": {},
     "output_type": "display_data"
    }
   ],
   "source": [
    "top_categories = df['Designation'].value_counts().head(10)\n",
    "plt.figure(figsize=(10, 4))\n",
    "sns.countplot(x='Designation', data=df,order=top_categories.index)\n",
    "plt.xticks(rotation=90)"
   ]
  },
  {
   "cell_type": "markdown",
   "id": "facfc956",
   "metadata": {},
   "source": [
    "**Observation:**"
   ]
  },
  {
   "cell_type": "raw",
   "id": "f2a4aaff",
   "metadata": {},
   "source": [
    "Among all the Designations, software engineers are more in number."
   ]
  },
  {
   "cell_type": "markdown",
   "id": "346d2239",
   "metadata": {},
   "source": [
    "**10 Board**"
   ]
  },
  {
   "cell_type": "code",
   "execution_count": 73,
   "id": "3bc48ee0",
   "metadata": {},
   "outputs": [
    {
     "data": {
      "text/plain": [
       "<Axes: xlabel='10board', ylabel='count'>"
      ]
     },
     "execution_count": 73,
     "metadata": {},
     "output_type": "execute_result"
    },
    {
     "data": {
      "image/png": "[encoded data removed]",
      "text/plain": [
       "<Figure size 500x400 with 1 Axes>"
      ]
     },
     "metadata": {},
     "output_type": "display_data"
    }
   ],
   "source": [
    "plt.figure(figsize=(5, 4))\n",
    "sns.countplot(x='10board', data=df)"
   ]
  },
  {
   "cell_type": "markdown",
   "id": "155edd2e",
   "metadata": {},
   "source": [
    "**12 Board**"
   ]
  },
  {
   "cell_type": "code",
   "execution_count": 56,
   "id": "07dea317",
   "metadata": {},
   "outputs": [
    {
     "data": {
      "text/plain": [
       "<Axes: xlabel='12board', ylabel='count'>"
      ]
     },
     "execution_count": 56,
     "metadata": {},
     "output_type": "execute_result"
    },
    {
     "data": {
      "image/png": "[encoded data removed]",
      "text/plain": [
       "<Figure size 500x400 with 1 Axes>"
      ]
     },
     "metadata": {},
     "output_type": "display_data"
    }
   ],
   "source": [
    "plt.figure(figsize=(5, 4))\n",
    "sns.countplot(x='12board', data=df)"
   ]
  },
  {
   "cell_type": "markdown",
   "id": "d0ec2221",
   "metadata": {},
   "source": [
    "**Job City**"
   ]
  },
  {
   "cell_type": "code",
   "execution_count": 57,
   "id": "1b650716",
   "metadata": {},
   "outputs": [
    {
     "data": {
      "text/plain": [
       "(array([0, 1, 2, 3, 4, 5, 6, 7, 8, 9]),\n",
       " [Text(0, 0, 'bangalore'),\n",
       "  Text(1, 0, 'unknown'),\n",
       "  Text(2, 0, 'noida'),\n",
       "  Text(3, 0, 'hyderabad'),\n",
       "  Text(4, 0, 'pune'),\n",
       "  Text(5, 0, 'chennai'),\n",
       "  Text(6, 0, 'delhi'),\n",
       "  Text(7, 0, 'gurgaon'),\n",
       "  Text(8, 0, 'mumbai'),\n",
       "  Text(9, 0, 'kolkata')])"
      ]
     },
     "execution_count": 57,
     "metadata": {},
     "output_type": "execute_result"
    },
    {
     "data": {
      "image/png": "[encoded data removed]",
      "text/plain": [
       "<Figure size 800x400 with 1 Axes>"
      ]
     },
     "metadata": {},
     "output_type": "display_data"
    }
   ],
   "source": [
    "top_categories = df['JobCity'].value_counts().head(10)\n",
    "plt.figure(figsize=(8, 4))\n",
    "sns.countplot(x='JobCity', data=df,order=top_categories.index)\n",
    "plt.xticks(rotation=90) "
   ]
  },
  {
   "cell_type": "markdown",
   "id": "cca50d43",
   "metadata": {},
   "source": [
    "**Degree**"
   ]
  },
  {
   "cell_type": "code",
   "execution_count": 58,
   "id": "1961919e",
   "metadata": {},
   "outputs": [
    {
     "data": {
      "text/plain": [
       "<Axes: xlabel='Degree', ylabel='count'>"
      ]
     },
     "execution_count": 58,
     "metadata": {},
     "output_type": "execute_result"
    },
    {
     "data": {
      "image/png": "[encoded data removed]",
      "text/plain": [
       "<Figure size 640x480 with 1 Axes>"
      ]
     },
     "metadata": {},
     "output_type": "display_data"
    }
   ],
   "source": [
    "sns.countplot(x='Degree', data=df)"
   ]
  },
  {
   "cell_type": "markdown",
   "id": "8b0f5345",
   "metadata": {},
   "source": [
    "**Specialization**"
   ]
  },
  {
   "cell_type": "code",
   "execution_count": 59,
   "id": "1661fbbe",
   "metadata": {},
   "outputs": [
    {
     "data": {
      "text/plain": [
       "(array([0, 1, 2, 3, 4]),\n",
       " [Text(0, 0, 'computer_science'),\n",
       "  Text(1, 0, 'electronics'),\n",
       "  Text(2, 0, 'mechanical'),\n",
       "  Text(3, 0, 'other'),\n",
       "  Text(4, 0, 'civil')])"
      ]
     },
     "execution_count": 59,
     "metadata": {},
     "output_type": "execute_result"
    },
    {
     "data": {
      "image/png": "[encoded data removed]",
      "text/plain": [
       "<Figure size 640x480 with 1 Axes>"
      ]
     },
     "metadata": {},
     "output_type": "display_data"
    }
   ],
   "source": [
    "sns.countplot(x='Specialization', data=df)\n",
    "plt.xticks(rotation=90)"
   ]
  },
  {
   "cell_type": "code",
   "execution_count": 60,
   "id": "785ff030",
   "metadata": {},
   "outputs": [
    {
     "data": {
      "text/plain": [
       "(array([ 0,  1,  2,  3,  4,  5,  6,  7,  8,  9, 10, 11, 12, 13, 14, 15]),\n",
       " [Text(0, 0, '1995'),\n",
       "  Text(1, 0, '1998'),\n",
       "  Text(2, 0, '1999'),\n",
       "  Text(3, 0, '2001'),\n",
       "  Text(4, 0, '2002'),\n",
       "  Text(5, 0, '2003'),\n",
       "  Text(6, 0, '2004'),\n",
       "  Text(7, 0, '2005'),\n",
       "  Text(8, 0, '2006'),\n",
       "  Text(9, 0, '2007'),\n",
       "  Text(10, 0, '2008'),\n",
       "  Text(11, 0, '2009'),\n",
       "  Text(12, 0, '2010'),\n",
       "  Text(13, 0, '2011'),\n",
       "  Text(14, 0, '2012'),\n",
       "  Text(15, 0, '2013')])"
      ]
     },
     "execution_count": 60,
     "metadata": {},
     "output_type": "execute_result"
    },
    {
     "data": {
      "image/png": "[encoded data removed]",
      "text/plain": [
       "<Figure size 640x480 with 1 Axes>"
      ]
     },
     "metadata": {},
     "output_type": "display_data"
    }
   ],
   "source": [
    "sns.countplot(x='12graduation', data=df) \n",
    "plt.xticks(rotation=90) "
   ]
  },
  {
   "cell_type": "code",
   "execution_count": 61,
   "id": "008416d6",
   "metadata": {},
   "outputs": [
    {
     "data": {
      "text/plain": [
       "Salary                      Axes(0.125,0.798085;0.352273x0.0819149)\n",
       "10percentage             Axes(0.547727,0.798085;0.352273x0.0819149)\n",
       "12graduation                Axes(0.125,0.699787;0.352273x0.0819149)\n",
       "12percentage             Axes(0.547727,0.699787;0.352273x0.0819149)\n",
       "CollegeID                   Axes(0.125,0.601489;0.352273x0.0819149)\n",
       "CollegeTier              Axes(0.547727,0.601489;0.352273x0.0819149)\n",
       "collegeGPA                  Axes(0.125,0.503191;0.352273x0.0819149)\n",
       "GraduationYear           Axes(0.547727,0.503191;0.352273x0.0819149)\n",
       "English                     Axes(0.125,0.404894;0.352273x0.0819149)\n",
       "Logical                  Axes(0.547727,0.404894;0.352273x0.0819149)\n",
       "Quant                       Axes(0.125,0.306596;0.352273x0.0819149)\n",
       "conscientiousness        Axes(0.547727,0.306596;0.352273x0.0819149)\n",
       "agreeableness               Axes(0.125,0.208298;0.352273x0.0819149)\n",
       "extraversion             Axes(0.547727,0.208298;0.352273x0.0819149)\n",
       "nueroticism                     Axes(0.125,0.11;0.352273x0.0819149)\n",
       "openess_to_experience        Axes(0.547727,0.11;0.352273x0.0819149)\n",
       "dtype: object"
      ]
     },
     "execution_count": 61,
     "metadata": {},
     "output_type": "execute_result"
    },
    {
     "data": {
      "image/png": "[encoded data removed]",
      "text/plain": [
       "<Figure size 1500x2000 with 16 Axes>"
      ]
     },
     "metadata": {},
     "output_type": "display_data"
    }
   ],
   "source": [
    "numerical_df.plot(kind='box', subplots=True, layout=(8,2), figsize=(15,20))"
   ]
  },
  {
   "cell_type": "markdown",
   "id": "ce9848be",
   "metadata": {},
   "source": [
    "# BIVARIATE ANALYSIS"
   ]
  },
  {
   "cell_type": "markdown",
   "id": "dabab1c5",
   "metadata": {},
   "source": [
    "**SALARY VS GENDER**"
   ]
  },
  {
   "cell_type": "code",
   "execution_count": 82,
   "id": "b018af0e",
   "metadata": {},
   "outputs": [
    {
     "data": {
      "text/plain": [
       "Text(0.5, 0.98, 'Salary vs Gender')"
      ]
     },
     "execution_count": 82,
     "metadata": {},
     "output_type": "execute_result"
    },
    {
     "data": {
      "image/png": "[encoded data removed]",
      "text/plain": [
       "<Figure size 500x400 with 1 Axes>"
      ]
     },
     "metadata": {},
     "output_type": "display_data"
    }
   ],
   "source": [
    "plt.figure(figsize=(5, 4))\n",
    "sns.boxplot(x='Salary',y='Gender',data=df)\n",
    "plt.suptitle('Salary vs Gender')"
   ]
  },
  {
   "cell_type": "markdown",
   "id": "89759855",
   "metadata": {},
   "source": [
    "**Observation: \n",
    "There is not much difference between median salary for both genders.\n",
    "We can also observe male have more outliers indicating they are more people getting higher pays in male than female category**"
   ]
  },
  {
   "cell_type": "markdown",
   "id": "6fe9c98d",
   "metadata": {},
   "source": [
    "**SALARY VS SPECIALIZATION**"
   ]
  },
  {
   "cell_type": "code",
   "execution_count": 63,
   "id": "998b63f0",
   "metadata": {},
   "outputs": [
    {
     "data": {
      "text/plain": [
       "Text(0.5, 0.98, 'Salary vs Specialization')"
      ]
     },
     "execution_count": 63,
     "metadata": {},
     "output_type": "execute_result"
    },
    {
     "data": {
      "image/png": "[encoded data removed]",
      "text/plain": [
       "<Figure size 640x480 with 1 Axes>"
      ]
     },
     "metadata": {},
     "output_type": "display_data"
    }
   ],
   "source": [
    "sns.boxplot(x='Salary',y='Specialization',data=df)\n",
    "plt.suptitle('Salary vs Specialization')"
   ]
  },
  {
   "cell_type": "markdown",
   "id": "640e5fe2",
   "metadata": {},
   "source": [
    "**DEGREE VS SALARY**"
   ]
  },
  {
   "cell_type": "code",
   "execution_count": 64,
   "id": "656d626b",
   "metadata": {},
   "outputs": [
    {
     "data": {
      "text/plain": [
       "Text(0.5, 0.98, 'Salary vs Degree')"
      ]
     },
     "execution_count": 64,
     "metadata": {},
     "output_type": "execute_result"
    },
    {
     "data": {
      "image/png": "[encoded data removed]",
      "text/plain": [
       "<Figure size 640x480 with 1 Axes>"
      ]
     },
     "metadata": {},
     "output_type": "display_data"
    }
   ],
   "source": [
    "sns.boxplot(x='Degree',y='Salary',data=df)\n",
    "plt.suptitle('Salary vs Degree')"
   ]
  },
  {
   "cell_type": "code",
   "execution_count": 65,
   "id": "ded4e767",
   "metadata": {},
   "outputs": [
    {
     "data": {
      "text/plain": [
       "<Axes: xlabel='Specialization', ylabel='Salary'>"
      ]
     },
     "execution_count": 65,
     "metadata": {},
     "output_type": "execute_result"
    },
    {
     "data": {
      "image/png": "[encoded data removed]",
      "text/plain": [
       "<Figure size 640x480 with 1 Axes>"
      ]
     },
     "metadata": {},
     "output_type": "display_data"
    }
   ],
   "source": [
    "sns.barplot(data=df,x='Specialization',y='Salary',hue='Gender')"
   ]
  },
  {
   "cell_type": "code",
   "execution_count": 66,
   "id": "fecbf6e8",
   "metadata": {},
   "outputs": [
    {
     "data": {
      "image/png": "[encoded data removed]",
      "text/plain": [
       "<Figure size 640x480 with 1 Axes>"
      ]
     },
     "metadata": {},
     "output_type": "display_data"
    }
   ],
   "source": [
    "sns.countplot(x='Degree',hue='Gender',data=df)\n",
    "plt.xticks(rotation=90)\n",
    "plt.show()"
   ]
  },
  {
   "cell_type": "markdown",
   "id": "26262189",
   "metadata": {},
   "source": [
    "**SCORE VS SALARY**"
   ]
  },
  {
   "cell_type": "code",
   "execution_count": 67,
   "id": "0fbde3f0",
   "metadata": {},
   "outputs": [
    {
     "data": {
      "image/png": "[encoded data removed]",
      "text/plain": [
       "<Figure size 1500x500 with 2 Axes>"
      ]
     },
     "metadata": {},
     "output_type": "display_data"
    }
   ],
   "source": [
    "plt.figure(figsize=(15,5))\n",
    "df['ApptitudeScore']=(df['Logical']+df['Quant']+df['English'])/3\n",
    "df['Academice_performance']=df['10percentage']+df['12percentage']+df['collegeGPA']/3\n",
    "plt.subplot(1,2,1)\n",
    "sns.scatterplot(x='ApptitudeScore',y='Salary',data=df)\n",
    "plt.subplot(1,2,2)\n",
    "sns.scatterplot(x='Academice_performance',y='Salary',data=df)\n",
    "plt.show()\n"
   ]
  },
  {
   "cell_type": "code",
   "execution_count": 68,
   "id": "cae7f12f",
   "metadata": {},
   "outputs": [],
   "source": [
    "df['Period'] = df[\"DOL\"].dt.year - df['DOJ'].dt.year"
   ]
  },
  {
   "cell_type": "code",
   "execution_count": 69,
   "id": "2d4af484",
   "metadata": {},
   "outputs": [
    {
     "data": {
      "text/plain": [
       "<Axes: xlabel='Period', ylabel='Salary'>"
      ]
     },
     "execution_count": 69,
     "metadata": {},
     "output_type": "execute_result"
    },
    {
     "data": {
      "image/png": "[encoded data removed]",
      "text/plain": [
       "<Figure size 640x480 with 1 Axes>"
      ]
     },
     "metadata": {},
     "output_type": "display_data"
    }
   ],
   "source": [
    "sns.boxplot(data=df,x='Period',y='Salary',hue='Gender')"
   ]
  },
  {
   "cell_type": "code",
   "execution_count": null,
   "id": "bb127a3a",
   "metadata": {},
   "outputs": [],
   "source": []
  },
  {
   "cell_type": "markdown",
   "id": "f76db834",
   "metadata": {},
   "source": [
    "# CLAIMS"
   ]
  },
  {
   "cell_type": "markdown",
   "id": "d5b3e47a",
   "metadata": {},
   "source": [
    "**1. Times of India article dated Jan 18, 2019 states that “After doing your Computer Science Engineering if you take up jobs as a Programming Analyst, Software Engineer, Hardware Engineer and Associate Engineer you can earn up to 2.5-3 lakhs as a fresh graduate.” Test this claim with the data given to you.**"
   ]
  },
  {
   "cell_type": "raw",
   "id": "05bb0cf6",
   "metadata": {},
   "source": [
    "Null Hypothesis (H0): The claim is true, and the observed frequencies of job titles (Programming Analyst, Software Engineer, Hardware Engineer, Associate Engineer) match the expected frequencies stated in the claim.\n",
    "Alternative Hypothesis (H1): The claim is not true, and the observed frequencies of job titles differ significantly from the expected frequencies stated in the claim."
   ]
  },
  {
   "cell_type": "code",
   "execution_count": 70,
   "id": "1823564e",
   "metadata": {},
   "outputs": [],
   "source": [
    "claim_df=df[(df[\"Designation\"].isin([\"programmer analyst\",\"software engineer\",\"hardware engineer\",\"associate engineer\"])) & (df[\"Period\"]==0) & (df['Specialization'] == 'computer_science')]"
   ]
  },
  {
   "cell_type": "code",
   "execution_count": 71,
   "id": "30bcd54b",
   "metadata": {},
   "outputs": [
    {
     "name": "stdout",
     "output_type": "stream",
     "text": [
      "0.06655416836296062 339166.6666666667\n",
      "We fail to reject null hypothesis and Avergae salary is equal to 250k - 300k\n"
     ]
    }
   ],
   "source": [
    "from scipy import stats as st\n",
    "\n",
    "pv = st.ttest_1samp(claim_df['Salary'],popmean=260000)[1]\n",
    "print(pv, claim_df['Salary'].mean())\n",
    "### for a 95% confidence interval,my p- value should be >0.05 to claim the null hypothesis\n",
    "if pv < 0.05:\n",
    "    print('We reject the null hypothesis and Average salary is not equal to 250k -300k')\n",
    "else:\n",
    "    print('We fail to reject null hypothesis and Avergae salary is equal to 250k - 300k')"
   ]
  },
  {
   "cell_type": "code",
   "execution_count": 85,
   "id": "83e099c9",
   "metadata": {},
   "outputs": [
    {
     "data": {
      "image/png": "[encoded data removed]",
      "text/plain": [
       "<Figure size 900x500 with 1 Axes>"
      ]
     },
     "metadata": {},
     "output_type": "display_data"
    }
   ],
   "source": [
    "plt.figure(figsize=(9,5))\n",
    "sns.histplot(data=claim_df, x=\"Salary\", kde=True)\n",
    "plt.title('Salary Distribution for Selected Roles')\n",
    "plt.xlabel('Salary')\n",
    "plt.ylabel('Frequency')\n",
    "plt.show()"
   ]
  },
  {
   "cell_type": "markdown",
   "id": "ac904a6b",
   "metadata": {},
   "source": [
    "# conclusion"
   ]
  },
  {
   "cell_type": "raw",
   "id": "c9a990e5",
   "metadata": {},
   "source": [
    "-1. Most of Amcat Aspirants are male working in IT domain with an experience of around 5years with degree in Btech and specialization in Computer Science/Information Technology from tier-2 college in uttarpradesh with an average salary around 300k.\n",
    "- 2.Highpaying jobs taken up by amcat aspirants are mostly from 'IT' Domain.\n",
    "- 3.Software Engineer and Software Developer are the most aimed profession for amcat aspirants."
   ]
  },
  {
   "cell_type": "code",
   "execution_count": null,
   "id": "d602f79d",
   "metadata": {},
   "outputs": [],
   "source": []
  }
 ],
 "metadata": {
  "kernelspec": {
   "display_name": "Python 3 (ipykernel)",
   "language": "python",
   "name": "python3"
  },
  "language_info": {
   "codemirror_mode": {
    "name": "ipython",
    "version": 3
   },
   "file_extension": ".py",
   "mimetype": "text/x-python",
   "name": "python",
   "nbconvert_exporter": "python",
   "pygments_lexer": "ipython3",
   "version": "3.11.3"
  }
 },
 "nbformat": 4,
 "nbformat_minor": 5
}
